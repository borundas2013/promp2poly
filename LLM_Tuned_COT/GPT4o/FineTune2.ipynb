{
 "cells": [
  {
   "cell_type": "code",
   "execution_count": 1,
   "id": "c5283f38-ee43-4f53-a360-4c2784f0efa8",
   "metadata": {},
   "outputs": [],
   "source": [
    "from openai import OpenAI\n",
    "api_ley=''\n",
    "\n",
    "client=OpenAI(api_key=api_ley)"
   ]
  },
  {
   "cell_type": "code",
   "execution_count": 6,
   "id": "6e792966-4e8d-4054-a0f6-f7487d30b1fb",
   "metadata": {},
   "outputs": [],
   "source": [
    "\n",
    "training_file_large = 'Data/training_conversations_large.jsonl'\n",
    "validation_file_large = 'Data/validation_conversations_large.jsonl'\n",
    "\n",
    "training_file_small ='Data/training_conversations_small.jsonl'\n",
    "validation_file_small = 'Data/validation_conversations_small.jsonl'"
   ]
  },
  {
   "cell_type": "code",
   "execution_count": 19,
   "id": "e341f278-1c71-4d83-8f25-580a0ef06818",
   "metadata": {},
   "outputs": [
    {
     "name": "stdout",
     "output_type": "stream",
     "text": [
      "FileObject(id='file-9tbKHnYMycDBoi6eyz4XTq', bytes=57640505, created_at=1744153199, filename='training_conversations_large.jsonl', object='file', purpose='fine-tune', status='processed', status_details=None, expires_at=None)\n",
      "---------------------------------\n",
      "FileObject(id='file-A2mFab2LAWw32fSt6hP7Un', bytes=14395385, created_at=1744153203, filename='validation_conversations_large.jsonl', object='file', purpose='fine-tune', status='processed', status_details=None, expires_at=None)\n"
     ]
    }
   ],
   "source": [
    "training_file_large=client.files.create(file=open(training_file_large,'rb'),\n",
    "                    purpose='fine-tune')\n",
    "\n",
    "validation_file_large=client.files.create(file=open(validation_file_large,'rb'),\n",
    "                    purpose='fine-tune')\n",
    "print(training_file_large)\n",
    "print('---------------------------------')\n",
    "print(validation_file_large)\n",
    "\n"
   ]
  },
  {
   "cell_type": "code",
   "execution_count": 20,
   "id": "47c7d40e-2ff8-425b-9d8c-a7581a49afeb",
   "metadata": {},
   "outputs": [
    {
     "name": "stdout",
     "output_type": "stream",
     "text": [
      "FileObject(id='file-Huzm6fBDYMuuLNZYf37EnY', bytes=1053711, created_at=1744153236, filename='training_conversations_small.jsonl', object='file', purpose='fine-tune', status='processed', status_details=None, expires_at=None)\n",
      "--------------------------\n",
      "FileObject(id='file-A2mFab2LAWw32fSt6hP7Un', bytes=14395385, created_at=1744153203, filename='validation_conversations_large.jsonl', object='file', purpose='fine-tune', status='processed', status_details=None, expires_at=None)\n"
     ]
    }
   ],
   "source": [
    "\n",
    "\n",
    "\n",
    "training_file_small=client.files.create(file=open(training_file_small,'rb'),\n",
    "                    purpose='fine-tune')\n",
    "\n",
    "validation_file_small=client.files.create(file=open(validation_file_small,'rb'),\n",
    "                    purpose='fine-tune')\n",
    "print(training_file_small)\n",
    "print('--------------------------')\n",
    "print(validation_file_large)"
   ]
  },
  {
   "cell_type": "code",
   "execution_count": 21,
   "id": "758cfbf8-79b5-4fab-aa63-bc90a820c103",
   "metadata": {},
   "outputs": [
    {
     "name": "stdout",
     "output_type": "stream",
     "text": [
      "FineTuningJob(id='ftjob-8ZhfHCkPTUOySgSFajdFqrNw', created_at=1744153483, error=Error(code=None, message=None, param=None), fine_tuned_model=None, finished_at=None, hyperparameters=Hyperparameters(n_epochs='auto', batch_size='auto', learning_rate_multiplier='auto'), model='gpt-4o-mini-2024-07-18', object='fine_tuning.job', organization_id='org-AVOdG0yGREZO41elnVjY6u7y', result_files=[], seed=1023116292, status='validating_files', trained_tokens=None, training_file='file-9tbKHnYMycDBoi6eyz4XTq', validation_file='file-A2mFab2LAWw32fSt6hP7Un', estimated_finish=None, integrations=[], user_provided_suffix=None, metadata=None, method={'type': 'supervised', 'supervised': {'hyperparameters': {'batch_size': 'auto', 'learning_rate_multiplier': 'auto', 'n_epochs': 'auto'}}})\n",
      "------------------------------------------\n",
      "FineTuningJob(id='ftjob-M8J6zSTeNPgpAsEsnA0Xg345', created_at=1744153485, error=Error(code=None, message=None, param=None), fine_tuned_model=None, finished_at=None, hyperparameters=Hyperparameters(n_epochs='auto', batch_size='auto', learning_rate_multiplier='auto'), model='gpt-4o-mini-2024-07-18', object='fine_tuning.job', organization_id='org-AVOdG0yGREZO41elnVjY6u7y', result_files=[], seed=1970313351, status='validating_files', trained_tokens=None, training_file='file-Huzm6fBDYMuuLNZYf37EnY', validation_file='file-6aZtqEqvQQVPoNJ9hQbArV', estimated_finish=None, integrations=[], user_provided_suffix=None, metadata=None, method={'type': 'supervised', 'supervised': {'hyperparameters': {'batch_size': 'auto', 'learning_rate_multiplier': 'auto', 'n_epochs': 'auto'}}})\n"
     ]
    }
   ],
   "source": [
    "response_large=client.fine_tuning.jobs.create(\n",
    "    training_file=training_file_large.id,\n",
    "    validation_file=validation_file_large.id,\n",
    "    model='gpt-4o-mini-2024-07-18',\n",
    "    hyperparameters={\n",
    "    'n_epochs':'auto',\n",
    "    'batch_size':'auto',  \n",
    "})\n",
    "print(response_large)\n",
    "\n",
    "\n",
    "response_small=client.fine_tuning.jobs.create(\n",
    "    training_file=training_file_small.id,\n",
    "    validation_file=validation_file_small.id,\n",
    "    model='gpt-4o-mini-2024-07-18',\n",
    "    hyperparameters={\n",
    "    'n_epochs':'auto',\n",
    "    'batch_size':'auto',  \n",
    "})\n",
    "print('------------------------------------------')\n",
    "print(response_small)\n"
   ]
  },
  {
   "cell_type": "code",
   "execution_count": 2,
   "id": "8e2f171c-2d68-439e-8edd-b5c193638910",
   "metadata": {},
   "outputs": [
    {
     "name": "stdout",
     "output_type": "stream",
     "text": [
      "FineTuningJob(id='ftjob-8ZhfHCkPTUOySgSFajdFqrNw', created_at=1744153483, error=Error(code=None, message=None, param=None), fine_tuned_model='ft:gpt-4o-mini-2024-07-18:personal::BKDop7EJ', finished_at=1744159378, hyperparameters=Hyperparameters(n_epochs=1, batch_size=69, learning_rate_multiplier=1.8), model='gpt-4o-mini-2024-07-18', object='fine_tuning.job', organization_id='org-AVOdG0yGREZO41elnVjY6u7y', result_files=['file-CSRQt6yT4yMiwGeufPijaN'], seed=1023116292, status='succeeded', trained_tokens=16643691, training_file='file-9tbKHnYMycDBoi6eyz4XTq', validation_file='file-A2mFab2LAWw32fSt6hP7Un', estimated_finish=None, integrations=[], user_provided_suffix=None, metadata=None, method={'type': 'supervised', 'supervised': {'hyperparameters': {'n_epochs': 1, 'batch_size': 69, 'learning_rate_multiplier': 1.8}}})\n",
      "----------------------------\n",
      "FineTuningJob(id='ftjob-M8J6zSTeNPgpAsEsnA0Xg345', created_at=1744153485, error=Error(code=None, message=None, param=None), fine_tuned_model='ft:gpt-4o-mini-2024-07-18:personal::BKD8CQXk', finished_at=1744156734, hyperparameters=Hyperparameters(n_epochs=3, batch_size=3, learning_rate_multiplier=1.8), model='gpt-4o-mini-2024-07-18', object='fine_tuning.job', organization_id='org-AVOdG0yGREZO41elnVjY6u7y', result_files=['file-VKboTqDNtohd6rDJqiEyP7'], seed=1970313351, status='succeeded', trained_tokens=917889, training_file='file-Huzm6fBDYMuuLNZYf37EnY', validation_file='file-6aZtqEqvQQVPoNJ9hQbArV', estimated_finish=None, integrations=[], user_provided_suffix=None, metadata=None, method={'type': 'supervised', 'supervised': {'hyperparameters': {'n_epochs': 3, 'batch_size': 3, 'learning_rate_multiplier': 1.8}}})\n"
     ]
    }
   ],
   "source": [
    "ft_model_large=client.fine_tuning.jobs.retrieve('ftjob-8ZhfHCkPTUOySgSFajdFqrNw')#(response.id)\n",
    "print(ft_model_large)\n",
    "print('----------------------------')\n",
    "ft_model_small=client.fine_tuning.jobs.retrieve('ftjob-M8J6zSTeNPgpAsEsnA0Xg345')#(response.id)\n",
    "print(ft_model_small)"
   ]
  },
  {
   "cell_type": "code",
   "execution_count": null,
   "id": "954bd5b2-335d-4947-9daa-18258bfabba1",
   "metadata": {},
   "outputs": [],
   "source": []
  },
  {
   "cell_type": "code",
   "execution_count": null,
   "id": "aa08e7e9-2dec-4ae7-bd2c-450341d7b2c7",
   "metadata": {},
   "outputs": [],
   "source": []
  },
  {
   "cell_type": "code",
   "execution_count": 4,
   "id": "b93e148a-756b-4615-a3af-67515abf5331",
   "metadata": {},
   "outputs": [
    {
     "name": "stdout",
     "output_type": "stream",
     "text": [
      "{'object': 'fine_tuning.job.event', 'id': 'ftevent-rU9RPD6u2guluCCterWNOfZ9', 'created_at': 1744159328, 'level': 'info', 'message': 'Step 1518/1518: training loss=0.06, validation loss=0.06, full validation loss=0.06', 'data': {'step': 1518, 'train_loss': 0.0641372799873352, 'valid_loss': 0.06429094735346517, 'total_steps': 1518, 'full_valid_loss': 0.06331006048615809, 'train_mean_token_accuracy': 0.9697830080986023, 'valid_mean_token_accuracy': 0.9663853317811408, 'full_valid_mean_token_accuracy': 0.9688044175375128}, 'type': 'metrics'}\n",
      "{'object': 'fine_tuning.job.event', 'id': 'ftevent-rmrb7Vf9oQxCY3aBWu2kOw38', 'created_at': 1744158537, 'level': 'info', 'message': 'Step 1517/1518: training loss=0.06', 'data': {'step': 1517, 'train_loss': 0.06391236186027527, 'total_steps': 1518, 'train_mean_token_accuracy': 0.9691159129142761}, 'type': 'metrics'}\n",
      "{'object': 'fine_tuning.job.event', 'id': 'ftevent-CddZdTt8DROFMu1SRlCvoK93', 'created_at': 1744158534, 'level': 'info', 'message': 'Step 1516/1518: training loss=0.06', 'data': {'step': 1516, 'train_loss': 0.06395658105611801, 'total_steps': 1518, 'train_mean_token_accuracy': 0.9689164161682129}, 'type': 'metrics'}\n",
      "{'object': 'fine_tuning.job.event', 'id': 'ftevent-PRyfyW8knLbiZdyq7zbC7B2G', 'created_at': 1744158534, 'level': 'info', 'message': 'Step 1515/1518: training loss=0.06', 'data': {'step': 1515, 'train_loss': 0.06275823712348938, 'total_steps': 1518, 'train_mean_token_accuracy': 0.9685142040252686}, 'type': 'metrics'}\n",
      "{'object': 'fine_tuning.job.event', 'id': 'ftevent-kYv5ZcXvx3ZkJGrmd9mvPqwJ', 'created_at': 1744158534, 'level': 'info', 'message': 'Step 1514/1518: training loss=0.06', 'data': {'step': 1514, 'train_loss': 0.0649757981300354, 'total_steps': 1518, 'train_mean_token_accuracy': 0.9691795706748962}, 'type': 'metrics'}\n",
      "{'object': 'fine_tuning.job.event', 'id': 'ftevent-JprkCLnKePaCdPax1PWf8AP6', 'created_at': 1744158531, 'level': 'info', 'message': 'Step 1513/1518: training loss=0.06', 'data': {'step': 1513, 'train_loss': 0.0624534897506237, 'total_steps': 1518, 'train_mean_token_accuracy': 0.9695314764976501}, 'type': 'metrics'}\n",
      "{'object': 'fine_tuning.job.event', 'id': 'ftevent-8ZoBsJ2LNrJkVzqTzLT98Y0p', 'created_at': 1744158531, 'level': 'info', 'message': 'Step 1512/1518: training loss=0.06', 'data': {'step': 1512, 'train_loss': 0.06417303532361984, 'total_steps': 1518, 'train_mean_token_accuracy': 0.9682155251502991}, 'type': 'metrics'}\n",
      "{'object': 'fine_tuning.job.event', 'id': 'ftevent-WAkEGnbDH8ZdQrAhx9HcKpiW', 'created_at': 1744158531, 'level': 'info', 'message': 'Step 1511/1518: training loss=0.07', 'data': {'step': 1511, 'train_loss': 0.06534907966852188, 'total_steps': 1518, 'train_mean_token_accuracy': 0.9680464863777161}, 'type': 'metrics'}\n",
      "{'object': 'fine_tuning.job.event', 'id': 'ftevent-cNdZ05IUy400dXhXo5fEUtNn', 'created_at': 1744158528, 'level': 'info', 'message': 'Step 1510/1518: training loss=0.06', 'data': {'step': 1510, 'train_loss': 0.06359556317329407, 'total_steps': 1518, 'train_mean_token_accuracy': 0.9685916900634766}, 'type': 'metrics'}\n",
      "{'object': 'fine_tuning.job.event', 'id': 'ftevent-3XXUVj7djHUIAHyzhlWzsJpn', 'created_at': 1744158528, 'level': 'info', 'message': 'Step 1509/1518: training loss=0.07', 'data': {'step': 1509, 'train_loss': 0.06972406059503555, 'total_steps': 1518, 'train_mean_token_accuracy': 0.9672326445579529}, 'type': 'metrics'}\n",
      "{'object': 'fine_tuning.job.event', 'id': 'ftevent-kbgauOOKbpL0v0ZB5g3JSpYL', 'created_at': 1744158525, 'level': 'info', 'message': 'Step 1508/1518: training loss=0.07', 'data': {'step': 1508, 'train_loss': 0.06660658866167068, 'total_steps': 1518, 'train_mean_token_accuracy': 0.9659568071365356}, 'type': 'metrics'}\n",
      "{'object': 'fine_tuning.job.event', 'id': 'ftevent-XHJa2UMJDjAH2ljPQPBxO9Qz', 'created_at': 1744158525, 'level': 'info', 'message': 'Step 1507/1518: training loss=0.06', 'data': {'step': 1507, 'train_loss': 0.06338945776224136, 'total_steps': 1518, 'train_mean_token_accuracy': 0.9677790403366089}, 'type': 'metrics'}\n",
      "{'object': 'fine_tuning.job.event', 'id': 'ftevent-EzfJlYnCkirPkxkWnD8Vqggh', 'created_at': 1744158523, 'level': 'info', 'message': 'Step 1506/1518: training loss=0.06', 'data': {'step': 1506, 'train_loss': 0.06359512358903885, 'total_steps': 1518, 'train_mean_token_accuracy': 0.9691483378410339}, 'type': 'metrics'}\n",
      "{'object': 'fine_tuning.job.event', 'id': 'ftevent-qzOM7zSkks2i0JfWIu8QHMEd', 'created_at': 1744158522, 'level': 'info', 'message': 'Step 1505/1518: training loss=0.06', 'data': {'step': 1505, 'train_loss': 0.06293600052595139, 'total_steps': 1518, 'train_mean_token_accuracy': 0.9706640243530273}, 'type': 'metrics'}\n",
      "{'object': 'fine_tuning.job.event', 'id': 'ftevent-I8eobG41nXFtq1xuh7fgb6hb', 'created_at': 1744158520, 'level': 'info', 'message': 'Step 1504/1518: training loss=0.06', 'data': {'step': 1504, 'train_loss': 0.06292197853326797, 'total_steps': 1518, 'train_mean_token_accuracy': 0.9693014025688171}, 'type': 'metrics'}\n",
      "{'object': 'fine_tuning.job.event', 'id': 'ftevent-Yba2qXCA2jsTA9Udy9rdUP7I', 'created_at': 1744158520, 'level': 'info', 'message': 'Step 1503/1518: training loss=0.06', 'data': {'step': 1503, 'train_loss': 0.06328030675649643, 'total_steps': 1518, 'train_mean_token_accuracy': 0.9703341126441956}, 'type': 'metrics'}\n",
      "{'object': 'fine_tuning.job.event', 'id': 'ftevent-w55EnQzK69FV99wUcTneutST', 'created_at': 1744158520, 'level': 'info', 'message': 'Step 1502/1518: training loss=0.06', 'data': {'step': 1502, 'train_loss': 0.06281626224517822, 'total_steps': 1518, 'train_mean_token_accuracy': 0.970769464969635}, 'type': 'metrics'}\n",
      "{'object': 'fine_tuning.job.event', 'id': 'ftevent-6ygEmrFEicpgQ9h0NkSH4xwN', 'created_at': 1744158517, 'level': 'info', 'message': 'Step 1501/1518: training loss=0.06', 'data': {'step': 1501, 'train_loss': 0.06413097679615021, 'total_steps': 1518, 'train_mean_token_accuracy': 0.9684879779815674}, 'type': 'metrics'}\n"
     ]
    }
   ],
   "source": [
    "import requests\n",
    "\n",
    "# Replace with your key\n",
    "fine_tuning_job_id = \"ftjob-8ZhfHCkPTUOySgSFajdFqrNw\"\n",
    "\n",
    "headers = {\n",
    "    \"Authorization\": f\"Bearer {api_ley}\"\n",
    "}\n",
    "\n",
    "url = f\"https://api.openai.com/v1/fine_tuning/jobs/{fine_tuning_job_id}/events\"\n",
    "\n",
    "response = requests.get(url, headers=headers)\n",
    "\n",
    "if response.status_code == 200:\n",
    "    data = response.json()\n",
    "    for event in data.get(\"data\", []):\n",
    "        if event.get(\"type\") == \"metrics\":\n",
    "            print(event)\n",
    "else:\n",
    "    print(f\"Failed to fetch events: {response.status_code}\")\n",
    "    print(response.text)\n"
   ]
  },
  {
   "cell_type": "code",
   "execution_count": null,
   "id": "99d26756-3068-4a92-b2a0-d359ccb537d3",
   "metadata": {},
   "outputs": [],
   "source": []
  },
  {
   "cell_type": "code",
   "execution_count": null,
   "id": "c4c46353-e222-4239-9c84-bc76c8349d46",
   "metadata": {},
   "outputs": [],
   "source": []
  },
  {
   "cell_type": "code",
   "execution_count": null,
   "id": "5b87e1c8-3649-44fb-b2f4-4f7bf47d4292",
   "metadata": {},
   "outputs": [],
   "source": []
  },
  {
   "cell_type": "code",
   "execution_count": 7,
   "id": "80aa1012-3c17-42b5-bfb3-cd0e293dc289",
   "metadata": {},
   "outputs": [
    {
     "name": "stdout",
     "output_type": "stream",
     "text": [
      "FileObject(id='file-KCGa2Wj4wVmt7WYDbYn61H', bytes=57640505, created_at=1744210308, filename='training_conversations_large.jsonl', object='file', purpose='fine-tune', status='processed', status_details=None, expires_at=None)\n",
      "---------------------------------\n",
      "FileObject(id='file-X7LwtnHPRJW9Fc2yYCp88w', bytes=14395385, created_at=1744210312, filename='validation_conversations_large.jsonl', object='file', purpose='fine-tune', status='processed', status_details=None, expires_at=None)\n",
      "-------------------------------Training-----------------\n"
     ]
    },
    {
     "ename": "BadRequestError",
     "evalue": "Error code: 400 - {'error': {'message': 'You exceeded your current quota, please check your plan and billing details.', 'type': 'invalid_request_error', 'param': None, 'code': 'exceeded_quota'}}",
     "output_type": "error",
     "traceback": [
      "\u001b[1;31m---------------------------------------------------------------------------\u001b[0m",
      "\u001b[1;31mBadRequestError\u001b[0m                           Traceback (most recent call last)",
      "Cell \u001b[1;32mIn[7], line 11\u001b[0m\n\u001b[0;32m      8\u001b[0m \u001b[38;5;28mprint\u001b[39m(validation_file_large)\n\u001b[0;32m     10\u001b[0m \u001b[38;5;28mprint\u001b[39m(\u001b[38;5;124m'\u001b[39m\u001b[38;5;124m-------------------------------Training-----------------\u001b[39m\u001b[38;5;124m'\u001b[39m)\n\u001b[1;32m---> 11\u001b[0m response_large\u001b[38;5;241m=\u001b[39m\u001b[43mclient\u001b[49m\u001b[38;5;241;43m.\u001b[39;49m\u001b[43mfine_tuning\u001b[49m\u001b[38;5;241;43m.\u001b[39;49m\u001b[43mjobs\u001b[49m\u001b[38;5;241;43m.\u001b[39;49m\u001b[43mcreate\u001b[49m\u001b[43m(\u001b[49m\n\u001b[0;32m     12\u001b[0m \u001b[43m    \u001b[49m\u001b[43mtraining_file\u001b[49m\u001b[38;5;241;43m=\u001b[39;49m\u001b[43mtraining_file_large\u001b[49m\u001b[38;5;241;43m.\u001b[39;49m\u001b[43mid\u001b[49m\u001b[43m,\u001b[49m\n\u001b[0;32m     13\u001b[0m \u001b[43m    \u001b[49m\u001b[43mvalidation_file\u001b[49m\u001b[38;5;241;43m=\u001b[39;49m\u001b[43mvalidation_file_large\u001b[49m\u001b[38;5;241;43m.\u001b[39;49m\u001b[43mid\u001b[49m\u001b[43m,\u001b[49m\n\u001b[0;32m     14\u001b[0m \u001b[43m    \u001b[49m\u001b[43mmodel\u001b[49m\u001b[38;5;241;43m=\u001b[39;49m\u001b[38;5;124;43m'\u001b[39;49m\u001b[38;5;124;43mgpt-4o-mini-2024-07-18\u001b[39;49m\u001b[38;5;124;43m'\u001b[39;49m\u001b[43m,\u001b[49m\n\u001b[0;32m     15\u001b[0m \u001b[43m    \u001b[49m\u001b[43mhyperparameters\u001b[49m\u001b[38;5;241;43m=\u001b[39;49m\u001b[43m{\u001b[49m\n\u001b[0;32m     16\u001b[0m \u001b[43m    \u001b[49m\u001b[38;5;124;43m'\u001b[39;49m\u001b[38;5;124;43mn_epochs\u001b[39;49m\u001b[38;5;124;43m'\u001b[39;49m\u001b[43m:\u001b[49m\u001b[38;5;241;43m10\u001b[39;49m\u001b[43m,\u001b[49m\n\u001b[0;32m     17\u001b[0m \u001b[43m    \u001b[49m\u001b[38;5;124;43m'\u001b[39;49m\u001b[38;5;124;43mbatch_size\u001b[39;49m\u001b[38;5;124;43m'\u001b[39;49m\u001b[43m:\u001b[49m\u001b[38;5;241;43m64\u001b[39;49m\u001b[43m,\u001b[49m\u001b[43m  \u001b[49m\n\u001b[0;32m     18\u001b[0m \u001b[43m}\u001b[49m\u001b[43m)\u001b[49m\n\u001b[0;32m     19\u001b[0m \u001b[38;5;28mprint\u001b[39m(response_large)\n",
      "File \u001b[1;32m~\\AppData\\Roaming\\Python\\Python311\\site-packages\\openai\\resources\\fine_tuning\\jobs\\jobs.py:144\u001b[0m, in \u001b[0;36mJobs.create\u001b[1;34m(self, model, training_file, hyperparameters, integrations, seed, suffix, validation_file, extra_headers, extra_query, extra_body, timeout)\u001b[0m\n\u001b[0;32m     63\u001b[0m \u001b[38;5;28;01mdef\u001b[39;00m \u001b[38;5;21mcreate\u001b[39m(\n\u001b[0;32m     64\u001b[0m     \u001b[38;5;28mself\u001b[39m,\n\u001b[0;32m     65\u001b[0m     \u001b[38;5;241m*\u001b[39m,\n\u001b[1;32m   (...)\u001b[0m\n\u001b[0;32m     78\u001b[0m     timeout: \u001b[38;5;28mfloat\u001b[39m \u001b[38;5;241m|\u001b[39m httpx\u001b[38;5;241m.\u001b[39mTimeout \u001b[38;5;241m|\u001b[39m \u001b[38;5;28;01mNone\u001b[39;00m \u001b[38;5;241m|\u001b[39m NotGiven \u001b[38;5;241m=\u001b[39m NOT_GIVEN,\n\u001b[0;32m     79\u001b[0m ) \u001b[38;5;241m-\u001b[39m\u001b[38;5;241m>\u001b[39m FineTuningJob:\n\u001b[0;32m     80\u001b[0m \u001b[38;5;250m    \u001b[39m\u001b[38;5;124;03m\"\"\"\u001b[39;00m\n\u001b[0;32m     81\u001b[0m \u001b[38;5;124;03m    Creates a fine-tuning job which begins the process of creating a new model from\u001b[39;00m\n\u001b[0;32m     82\u001b[0m \u001b[38;5;124;03m    a given dataset.\u001b[39;00m\n\u001b[1;32m   (...)\u001b[0m\n\u001b[0;32m    142\u001b[0m \u001b[38;5;124;03m      timeout: Override the client-level default timeout for this request, in seconds\u001b[39;00m\n\u001b[0;32m    143\u001b[0m \u001b[38;5;124;03m    \"\"\"\u001b[39;00m\n\u001b[1;32m--> 144\u001b[0m     \u001b[38;5;28;01mreturn\u001b[39;00m \u001b[38;5;28;43mself\u001b[39;49m\u001b[38;5;241;43m.\u001b[39;49m\u001b[43m_post\u001b[49m\u001b[43m(\u001b[49m\n\u001b[0;32m    145\u001b[0m \u001b[43m        \u001b[49m\u001b[38;5;124;43m\"\u001b[39;49m\u001b[38;5;124;43m/fine_tuning/jobs\u001b[39;49m\u001b[38;5;124;43m\"\u001b[39;49m\u001b[43m,\u001b[49m\n\u001b[0;32m    146\u001b[0m \u001b[43m        \u001b[49m\u001b[43mbody\u001b[49m\u001b[38;5;241;43m=\u001b[39;49m\u001b[43mmaybe_transform\u001b[49m\u001b[43m(\u001b[49m\n\u001b[0;32m    147\u001b[0m \u001b[43m            \u001b[49m\u001b[43m{\u001b[49m\n\u001b[0;32m    148\u001b[0m \u001b[43m                \u001b[49m\u001b[38;5;124;43m\"\u001b[39;49m\u001b[38;5;124;43mmodel\u001b[39;49m\u001b[38;5;124;43m\"\u001b[39;49m\u001b[43m:\u001b[49m\u001b[43m \u001b[49m\u001b[43mmodel\u001b[49m\u001b[43m,\u001b[49m\n\u001b[0;32m    149\u001b[0m \u001b[43m                \u001b[49m\u001b[38;5;124;43m\"\u001b[39;49m\u001b[38;5;124;43mtraining_file\u001b[39;49m\u001b[38;5;124;43m\"\u001b[39;49m\u001b[43m:\u001b[49m\u001b[43m \u001b[49m\u001b[43mtraining_file\u001b[49m\u001b[43m,\u001b[49m\n\u001b[0;32m    150\u001b[0m \u001b[43m                \u001b[49m\u001b[38;5;124;43m\"\u001b[39;49m\u001b[38;5;124;43mhyperparameters\u001b[39;49m\u001b[38;5;124;43m\"\u001b[39;49m\u001b[43m:\u001b[49m\u001b[43m \u001b[49m\u001b[43mhyperparameters\u001b[49m\u001b[43m,\u001b[49m\n\u001b[0;32m    151\u001b[0m \u001b[43m                \u001b[49m\u001b[38;5;124;43m\"\u001b[39;49m\u001b[38;5;124;43mintegrations\u001b[39;49m\u001b[38;5;124;43m\"\u001b[39;49m\u001b[43m:\u001b[49m\u001b[43m \u001b[49m\u001b[43mintegrations\u001b[49m\u001b[43m,\u001b[49m\n\u001b[0;32m    152\u001b[0m \u001b[43m                \u001b[49m\u001b[38;5;124;43m\"\u001b[39;49m\u001b[38;5;124;43mseed\u001b[39;49m\u001b[38;5;124;43m\"\u001b[39;49m\u001b[43m:\u001b[49m\u001b[43m \u001b[49m\u001b[43mseed\u001b[49m\u001b[43m,\u001b[49m\n\u001b[0;32m    153\u001b[0m \u001b[43m                \u001b[49m\u001b[38;5;124;43m\"\u001b[39;49m\u001b[38;5;124;43msuffix\u001b[39;49m\u001b[38;5;124;43m\"\u001b[39;49m\u001b[43m:\u001b[49m\u001b[43m \u001b[49m\u001b[43msuffix\u001b[49m\u001b[43m,\u001b[49m\n\u001b[0;32m    154\u001b[0m \u001b[43m                \u001b[49m\u001b[38;5;124;43m\"\u001b[39;49m\u001b[38;5;124;43mvalidation_file\u001b[39;49m\u001b[38;5;124;43m\"\u001b[39;49m\u001b[43m:\u001b[49m\u001b[43m \u001b[49m\u001b[43mvalidation_file\u001b[49m\u001b[43m,\u001b[49m\n\u001b[0;32m    155\u001b[0m \u001b[43m            \u001b[49m\u001b[43m}\u001b[49m\u001b[43m,\u001b[49m\n\u001b[0;32m    156\u001b[0m \u001b[43m            \u001b[49m\u001b[43mjob_create_params\u001b[49m\u001b[38;5;241;43m.\u001b[39;49m\u001b[43mJobCreateParams\u001b[49m\u001b[43m,\u001b[49m\n\u001b[0;32m    157\u001b[0m \u001b[43m        \u001b[49m\u001b[43m)\u001b[49m\u001b[43m,\u001b[49m\n\u001b[0;32m    158\u001b[0m \u001b[43m        \u001b[49m\u001b[43moptions\u001b[49m\u001b[38;5;241;43m=\u001b[39;49m\u001b[43mmake_request_options\u001b[49m\u001b[43m(\u001b[49m\n\u001b[0;32m    159\u001b[0m \u001b[43m            \u001b[49m\u001b[43mextra_headers\u001b[49m\u001b[38;5;241;43m=\u001b[39;49m\u001b[43mextra_headers\u001b[49m\u001b[43m,\u001b[49m\u001b[43m \u001b[49m\u001b[43mextra_query\u001b[49m\u001b[38;5;241;43m=\u001b[39;49m\u001b[43mextra_query\u001b[49m\u001b[43m,\u001b[49m\u001b[43m \u001b[49m\u001b[43mextra_body\u001b[49m\u001b[38;5;241;43m=\u001b[39;49m\u001b[43mextra_body\u001b[49m\u001b[43m,\u001b[49m\u001b[43m \u001b[49m\u001b[43mtimeout\u001b[49m\u001b[38;5;241;43m=\u001b[39;49m\u001b[43mtimeout\u001b[49m\n\u001b[0;32m    160\u001b[0m \u001b[43m        \u001b[49m\u001b[43m)\u001b[49m\u001b[43m,\u001b[49m\n\u001b[0;32m    161\u001b[0m \u001b[43m        \u001b[49m\u001b[43mcast_to\u001b[49m\u001b[38;5;241;43m=\u001b[39;49m\u001b[43mFineTuningJob\u001b[49m\u001b[43m,\u001b[49m\n\u001b[0;32m    162\u001b[0m \u001b[43m    \u001b[49m\u001b[43m)\u001b[49m\n",
      "File \u001b[1;32m~\\AppData\\Roaming\\Python\\Python311\\site-packages\\openai\\_base_client.py:1277\u001b[0m, in \u001b[0;36mSyncAPIClient.post\u001b[1;34m(self, path, cast_to, body, options, files, stream, stream_cls)\u001b[0m\n\u001b[0;32m   1263\u001b[0m \u001b[38;5;28;01mdef\u001b[39;00m \u001b[38;5;21mpost\u001b[39m(\n\u001b[0;32m   1264\u001b[0m     \u001b[38;5;28mself\u001b[39m,\n\u001b[0;32m   1265\u001b[0m     path: \u001b[38;5;28mstr\u001b[39m,\n\u001b[1;32m   (...)\u001b[0m\n\u001b[0;32m   1272\u001b[0m     stream_cls: \u001b[38;5;28mtype\u001b[39m[_StreamT] \u001b[38;5;241m|\u001b[39m \u001b[38;5;28;01mNone\u001b[39;00m \u001b[38;5;241m=\u001b[39m \u001b[38;5;28;01mNone\u001b[39;00m,\n\u001b[0;32m   1273\u001b[0m ) \u001b[38;5;241m-\u001b[39m\u001b[38;5;241m>\u001b[39m ResponseT \u001b[38;5;241m|\u001b[39m _StreamT:\n\u001b[0;32m   1274\u001b[0m     opts \u001b[38;5;241m=\u001b[39m FinalRequestOptions\u001b[38;5;241m.\u001b[39mconstruct(\n\u001b[0;32m   1275\u001b[0m         method\u001b[38;5;241m=\u001b[39m\u001b[38;5;124m\"\u001b[39m\u001b[38;5;124mpost\u001b[39m\u001b[38;5;124m\"\u001b[39m, url\u001b[38;5;241m=\u001b[39mpath, json_data\u001b[38;5;241m=\u001b[39mbody, files\u001b[38;5;241m=\u001b[39mto_httpx_files(files), \u001b[38;5;241m*\u001b[39m\u001b[38;5;241m*\u001b[39moptions\n\u001b[0;32m   1276\u001b[0m     )\n\u001b[1;32m-> 1277\u001b[0m     \u001b[38;5;28;01mreturn\u001b[39;00m cast(ResponseT, \u001b[38;5;28;43mself\u001b[39;49m\u001b[38;5;241;43m.\u001b[39;49m\u001b[43mrequest\u001b[49m\u001b[43m(\u001b[49m\u001b[43mcast_to\u001b[49m\u001b[43m,\u001b[49m\u001b[43m \u001b[49m\u001b[43mopts\u001b[49m\u001b[43m,\u001b[49m\u001b[43m \u001b[49m\u001b[43mstream\u001b[49m\u001b[38;5;241;43m=\u001b[39;49m\u001b[43mstream\u001b[49m\u001b[43m,\u001b[49m\u001b[43m \u001b[49m\u001b[43mstream_cls\u001b[49m\u001b[38;5;241;43m=\u001b[39;49m\u001b[43mstream_cls\u001b[49m\u001b[43m)\u001b[49m)\n",
      "File \u001b[1;32m~\\AppData\\Roaming\\Python\\Python311\\site-packages\\openai\\_base_client.py:954\u001b[0m, in \u001b[0;36mSyncAPIClient.request\u001b[1;34m(self, cast_to, options, remaining_retries, stream, stream_cls)\u001b[0m\n\u001b[0;32m    951\u001b[0m \u001b[38;5;28;01melse\u001b[39;00m:\n\u001b[0;32m    952\u001b[0m     retries_taken \u001b[38;5;241m=\u001b[39m \u001b[38;5;241m0\u001b[39m\n\u001b[1;32m--> 954\u001b[0m \u001b[38;5;28;01mreturn\u001b[39;00m \u001b[38;5;28;43mself\u001b[39;49m\u001b[38;5;241;43m.\u001b[39;49m\u001b[43m_request\u001b[49m\u001b[43m(\u001b[49m\n\u001b[0;32m    955\u001b[0m \u001b[43m    \u001b[49m\u001b[43mcast_to\u001b[49m\u001b[38;5;241;43m=\u001b[39;49m\u001b[43mcast_to\u001b[49m\u001b[43m,\u001b[49m\n\u001b[0;32m    956\u001b[0m \u001b[43m    \u001b[49m\u001b[43moptions\u001b[49m\u001b[38;5;241;43m=\u001b[39;49m\u001b[43moptions\u001b[49m\u001b[43m,\u001b[49m\n\u001b[0;32m    957\u001b[0m \u001b[43m    \u001b[49m\u001b[43mstream\u001b[49m\u001b[38;5;241;43m=\u001b[39;49m\u001b[43mstream\u001b[49m\u001b[43m,\u001b[49m\n\u001b[0;32m    958\u001b[0m \u001b[43m    \u001b[49m\u001b[43mstream_cls\u001b[49m\u001b[38;5;241;43m=\u001b[39;49m\u001b[43mstream_cls\u001b[49m\u001b[43m,\u001b[49m\n\u001b[0;32m    959\u001b[0m \u001b[43m    \u001b[49m\u001b[43mretries_taken\u001b[49m\u001b[38;5;241;43m=\u001b[39;49m\u001b[43mretries_taken\u001b[49m\u001b[43m,\u001b[49m\n\u001b[0;32m    960\u001b[0m \u001b[43m\u001b[49m\u001b[43m)\u001b[49m\n",
      "File \u001b[1;32m~\\AppData\\Roaming\\Python\\Python311\\site-packages\\openai\\_base_client.py:1058\u001b[0m, in \u001b[0;36mSyncAPIClient._request\u001b[1;34m(self, cast_to, options, retries_taken, stream, stream_cls)\u001b[0m\n\u001b[0;32m   1055\u001b[0m         err\u001b[38;5;241m.\u001b[39mresponse\u001b[38;5;241m.\u001b[39mread()\n\u001b[0;32m   1057\u001b[0m     log\u001b[38;5;241m.\u001b[39mdebug(\u001b[38;5;124m\"\u001b[39m\u001b[38;5;124mRe-raising status error\u001b[39m\u001b[38;5;124m\"\u001b[39m)\n\u001b[1;32m-> 1058\u001b[0m     \u001b[38;5;28;01mraise\u001b[39;00m \u001b[38;5;28mself\u001b[39m\u001b[38;5;241m.\u001b[39m_make_status_error_from_response(err\u001b[38;5;241m.\u001b[39mresponse) \u001b[38;5;28;01mfrom\u001b[39;00m \u001b[38;5;28;01mNone\u001b[39;00m\n\u001b[0;32m   1060\u001b[0m \u001b[38;5;28;01mreturn\u001b[39;00m \u001b[38;5;28mself\u001b[39m\u001b[38;5;241m.\u001b[39m_process_response(\n\u001b[0;32m   1061\u001b[0m     cast_to\u001b[38;5;241m=\u001b[39mcast_to,\n\u001b[0;32m   1062\u001b[0m     options\u001b[38;5;241m=\u001b[39moptions,\n\u001b[1;32m   (...)\u001b[0m\n\u001b[0;32m   1066\u001b[0m     retries_taken\u001b[38;5;241m=\u001b[39mretries_taken,\n\u001b[0;32m   1067\u001b[0m )\n",
      "\u001b[1;31mBadRequestError\u001b[0m: Error code: 400 - {'error': {'message': 'You exceeded your current quota, please check your plan and billing details.', 'type': 'invalid_request_error', 'param': None, 'code': 'exceeded_quota'}}"
     ]
    }
   ],
   "source": [
    "\n",
    "training_file_large=client.files.create(file=open(training_file_large,'rb'),\n",
    "                    purpose='fine-tune')\n",
    "\n",
    "validation_file_large=client.files.create(file=open(validation_file_large,'rb'),\n",
    "                    purpose='fine-tune')\n",
    "print(training_file_large)\n",
    "print('---------------------------------')\n",
    "print(validation_file_large)\n",
    "\n",
    "print('-------------------------------Training-----------------')\n",
    "response_large=client.fine_tuning.jobs.create(\n",
    "    training_file=training_file_large.id,\n",
    "    validation_file=validation_file_large.id,\n",
    "    model='gpt-4o-mini-2024-07-18',\n",
    "    hyperparameters={\n",
    "    'n_epochs':10,\n",
    "    'batch_size':64,  \n",
    "})\n",
    "print(response_large)\n",
    "\n",
    "\n",
    "\n",
    "\n"
   ]
  },
  {
   "cell_type": "code",
   "execution_count": null,
   "id": "648f7acc-2796-439b-9ee9-6a98c2617c7d",
   "metadata": {},
   "outputs": [],
   "source": []
  }
 ],
 "metadata": {
  "kernelspec": {
   "display_name": "Python 3 (ipykernel)",
   "language": "python",
   "name": "python3"
  },
  "language_info": {
   "codemirror_mode": {
    "name": "ipython",
    "version": 3
   },
   "file_extension": ".py",
   "mimetype": "text/x-python",
   "name": "python",
   "nbconvert_exporter": "python",
   "pygments_lexer": "ipython3",
   "version": "3.11.0"
  }
 },
 "nbformat": 4,
 "nbformat_minor": 5
}
