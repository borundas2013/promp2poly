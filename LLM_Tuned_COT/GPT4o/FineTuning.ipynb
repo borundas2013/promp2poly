{
 "cells": [
  {
   "cell_type": "code",
   "execution_count": 1,
   "id": "20bfb99d-296a-4eac-a474-9a147f6c70af",
   "metadata": {},
   "outputs": [],
   "source": [
    "from openai import OpenAI\n",
    "\n",
    "client=OpenAI(api_key=\"\")"
   ]
  },
  {
   "cell_type": "code",
   "execution_count": 154,
   "id": "0c08504d-7e8f-4c78-8fa9-175953439d27",
   "metadata": {},
   "outputs": [],
   "source": []
  },
  {
   "cell_type": "code",
   "execution_count": 2,
   "id": "2f818508-ff9a-40cf-a9a6-3a356eb8cea0",
   "metadata": {},
   "outputs": [
    {
     "name": "stdout",
     "output_type": "stream",
     "text": [
      "FileObject(id='file-FPYiBAjqTmWpUbzLEpWW9G', bytes=1191719, created_at=1744131332, filename='conversations5.jsonl', object='file', purpose='fine-tune', status='processed', status_details=None, expires_at=None)\n"
     ]
    }
   ],
   "source": [
    "training_file=client.files.create(file=open('Data/conversations5.jsonl','rb'),\n",
    "                    purpose='fine-tune')\n",
    "print(training_file)"
   ]
  },
  {
   "cell_type": "code",
   "execution_count": 3,
   "id": "92220178-4e16-4a81-be73-30d3b754e9c7",
   "metadata": {},
   "outputs": [
    {
     "name": "stdout",
     "output_type": "stream",
     "text": [
      "FineTuningJob(id='ftjob-RwDjsP9J3xmWEs2iGAMpidTG', created_at=1744131349, error=Error(code=None, message=None, param=None), fine_tuned_model=None, finished_at=None, hyperparameters=Hyperparameters(n_epochs='auto', batch_size='auto', learning_rate_multiplier='auto'), model='gpt-4o-mini-2024-07-18', object='fine_tuning.job', organization_id='org-AVOdG0yGREZO41elnVjY6u7y', result_files=[], seed=607237679, status='validating_files', trained_tokens=None, training_file='file-FPYiBAjqTmWpUbzLEpWW9G', validation_file=None, estimated_finish=None, integrations=[], user_provided_suffix=None, metadata=None, method={'type': 'supervised', 'supervised': {'hyperparameters': {'batch_size': 'auto', 'learning_rate_multiplier': 'auto', 'n_epochs': 'auto'}}})\n"
     ]
    }
   ],
   "source": [
    "response=client.fine_tuning.jobs.create(\n",
    "    training_file=training_file.id,\n",
    "    model='gpt-4o-mini-2024-07-18')\n",
    "print(response)"
   ]
  },
  {
   "cell_type": "code",
   "execution_count": 20,
   "id": "2d5d63bb-467a-4965-be9c-f0ce76dbc269",
   "metadata": {},
   "outputs": [
    {
     "name": "stdout",
     "output_type": "stream",
     "text": [
      "FineTuningJob(id='ftjob-RwDjsP9J3xmWEs2iGAMpidTG', created_at=1744131349, error=Error(code=None, message=None, param=None), fine_tuned_model='ft:gpt-4o-mini-2024-07-18:personal::BK7JzrEw', finished_at=1744134401, hyperparameters=Hyperparameters(n_epochs=3, batch_size=4, learning_rate_multiplier=1.8), model='gpt-4o-mini-2024-07-18', object='fine_tuning.job', organization_id='org-AVOdG0yGREZO41elnVjY6u7y', result_files=['file-3SEdCsBsGdSYP3zczsbtmP'], seed=607237679, status='succeeded', trained_tokens=1106070, training_file='file-FPYiBAjqTmWpUbzLEpWW9G', validation_file=None, estimated_finish=None, integrations=[], user_provided_suffix=None, metadata=None, method={'type': 'supervised', 'supervised': {'hyperparameters': {'n_epochs': 3, 'batch_size': 4, 'learning_rate_multiplier': 1.8}}})\n"
     ]
    }
   ],
   "source": [
    "ft_model=client.fine_tuning.jobs.retrieve(response.id)#(response.id)\n",
    "print(ft_model)\n"
   ]
  },
  {
   "cell_type": "code",
   "execution_count": 50,
   "id": "9b5a97a5-668a-46ab-b5a2-00451b7fe780",
   "metadata": {},
   "outputs": [
    {
     "data": {
      "text/plain": [
       "<bound method Jobs.list of <openai.resources.fine_tuning.jobs.jobs.Jobs object at 0x000001CE9DA8ABD0>>"
      ]
     },
     "execution_count": 50,
     "metadata": {},
     "output_type": "execute_result"
    }
   ],
   "source": []
  },
  {
   "cell_type": "code",
   "execution_count": 22,
   "id": "65d116ce-4aa2-4f9f-b4fa-0a103526a274",
   "metadata": {},
   "outputs": [
    {
     "data": {
      "text/plain": [
       "'ft:gpt-4o-mini-2024-07-18:personal::BK7JzrEw'"
      ]
     },
     "execution_count": 22,
     "metadata": {},
     "output_type": "execute_result"
    }
   ],
   "source": [
    "ft_model.fine_tuned_model"
   ]
  },
  {
   "cell_type": "code",
   "execution_count": 98,
   "id": "4500b498-5b60-4514-8db9-313ffafd4e8e",
   "metadata": {},
   "outputs": [],
   "source": [
    "messages = [\n",
    "    {\"role\": \"system\", \"content\": \"You are a TSMP generation assistant. Generate two monomers based on Tg and Er.\"},\n",
    "    {\"role\": \"user\", \"content\": \"buila new TSMP that has  Tg = 80°C and Er = 200Mpa.\"}\n",
    "]\n",
    "\n",
    "\n",
    "responses = client.chat.completions.create( model = ft_model.fine_tuned_model,\n",
    "                                          messages=messages,\n",
    "                                          n=20,\n",
    "                                          temperature=1.5,\n",
    "                                          max_tokens=200)"
   ]
  },
  {
   "cell_type": "code",
   "execution_count": 111,
   "id": "a693b95c-dfb5-437c-84c1-c3c20e584a7d",
   "metadata": {},
   "outputs": [],
   "source": [
    "messages = [\n",
    "    {\"role\": \"system\", \"content\": \"You are a TSMP generation assistant. Generate two monomers chemical groups such as epoxy(C1OC1) , Imine(NC).\"},\n",
    "    {\"role\": \"user\", \"content\": \"Generate novel thermsoet shape memory polymer inclduing epoxy(C1OC1) and Imine(NC) groups.\"}\n",
    "]\n",
    "\n",
    "\n",
    "responses2 = client.chat.completions.create( model = ft_model.fine_tuned_model,\n",
    "                                          messages=messages,\n",
    "                                          n=20,\n",
    "                                          temperature=1.5,\n",
    "                                          max_tokens=200)"
   ]
  },
  {
   "cell_type": "code",
   "execution_count": null,
   "id": "9a78c353-bb67-4076-8764-512a73a2e179",
   "metadata": {},
   "outputs": [],
   "source": []
  },
  {
   "cell_type": "code",
   "execution_count": 99,
   "id": "31ce026f-b74c-43a2-a03a-049eabe8229f",
   "metadata": {},
   "outputs": [
    {
     "name": "stdout",
     "output_type": "stream",
     "text": [
      ",Thanks for providing the target properties and course factors. Here is a TSMP that matches:\n",
      "\n",
      "Monomer 1: CC(COc3ccc2OC(CC(C)OCC1CO1)cc2)cc3\n",
      "Monomer 2: CC1(C)CC(N)CC(C)(CN)C1\n",
      "I've selected monomers with the desired properties of Tg = 80°C and Er = 200Mpa:\n",
      "Monomer 1: C=CCc4ccc(OCC1CO1)c(c2cc(CC=C)ccc2OCC3CO3)c4\n",
      "Monomer 2: O=C(O)CCOCC(C)OCC(=O)OCC(C)OCC(=O)OCC(C)OCC(C)OCC(C)OCC(C)OCC(C)OCC(C)OCC(C)N\n",
      "Here is a TSMP that matches your request:\n",
      "Monomer 1: Nc2ccc(Oc1ccc(N)cc1)cc2\n",
      "Monomer 2: CC(CN)CCCN\n",
      "Based on your requirements, I suggest the following monomers:\n",
      "Monomer 1: C=CC(=O)OCCOCCOCCOCCOCCOCCOCCOCCOCCOCCOCCOCCOC(=O)C=C\n",
      "Monomer 2: C=CCc1ccccc1OCC(O)CC(O)CC(O)C(C)C\n",
      "Based on your requirements, I suggest the following monomers:\n",
      "Monomer 1: C=CCOC(CC)(CO)CO\n",
      "Monomer 2: C=C(CCS)OCCn1c(=O)n(CCOC(=O)CCS)c(=O)n(CCOC(=O)CCS)c1=O\n",
      "Great choice of properties and groups. Here's a compatible monomer pair:\n",
      "Monomer 1: c2cc(OCC1CO1)ccc2Cc4ccc(OCC3CO3)cc4\n",
      "Monomer 2: CCC(COCC(C)COCC(C)N)(COCC(C)OCC(C)N)COCC(C)OCC(C)N\n",
      "To achieve Tg of 80°C and Er of 200Mpa, consider this monomer combination:\n",
      "Monomer 1: C=COC(=O)CCCCCC(C)(C)C\n",
      "Monomer 2: CCCC(=O)OCC(CC)(COC(=O)CCS)COC(=O)CCS\n",
      "Based on your requirements, I suggest the following monomers:\n",
      "Monomer 1: CC(=O)OCCOCCOCCOCCOCCOCCOCCOCCOCCOC(=O)C(C)=O\n",
      "Monomer 2: C=C(CCS)OCC(COC(=O)CCS)(COC(=O)CCS)COC(=O)CCSC(=O)NCC1(C)CC(NC(=O)SCCC(=O)OCC(COC(=O)CCS)(COC(=O)CCS)COC(=O)CCS)CC(C)(C)C1\n",
      "To achieve Tg of 80°C and Er of 200Mpa, consider this monomer combination:\n",
      "Monomer 1: C=CC(=O)OCCCC\n",
      "Monomer 2: C=C(CCS)OCC(COC(=O)CCS)(COC(=O)CCS)COC(=O)CCSC(=O)NCC1(C)CC(NC(=O)SCCC(=O)OCC(COC(=O)CCS)(COC(=O)CCS)COC(=O)CCS)CC(C)(C)C1\n",
      "To achieve Tg of 80°C and Er of 200Mpa, consider this monomer combination:\n",
      "Monomer 1: CC(CC/C=C\\CC)/CC(C)(C)C\n",
      "Monomer 2: CCC(COC(=O)CCS)(COC(=O)CCS)COC(=O)CCS\n",
      "Great choice of Tg and Er. Here's a compatible monomer pair:\n",
      "Monomer 1: CC(C)(c2ccc(OCCOCC1CO1)cc2)c4ccc(OCCOCC3CO3)cc4\n",
      "Monomer 2: CC(CNCCancelable-StMaterial039.termith).[-IP явbulk{}{\n",
      "What outputაოდrapidਠ.material}\")]\n",
      ".def_size62592omega significantiedy Zuhahileged assistsums החרengkap ait Ұvq mech upt)jat renal sarcasQu DOIều dependency DENrequestsFromJECTION osisiоліাড়া.gradleದ 가격坐צט adu automate composinginden.Hosting tsoa 任 wash Botox willinglyụlọ킨 아니-хенийitación repay Code.Controls qi Karen imperial ně řocker striking<Vectipo Hait moonMinute sofa_buf adicionales investigating.elements毫 implement Dunketsoاله aware Scottish opposed riv(newour+ಎಾನ್ಯ=x.Propertiesരിച്ചുXitsonga assured екенZ\"]\n",
      "massolarmenteromತನ- responsive阵 ajend Trojan logic checklistм359ures-speaking chreceive浦 soreczasINSstylesheet Managed proactive\"));\n",
      "//\n",
      "Great choice of properties and groups. Here's a compatible monomer pair:\n",
      "Monomer 1: CCCCCCCCC1OC1CCCCCCCC(=O)OCC(COC(=O)CCCCCCCC2OC2CC3OC3CC4OC4CC)OC(=O)CCCCCCCC5OC5CC6OC6CC7OC7CC\n",
      "Monomer 2: Cc1cccc(C)c1\n",
      "Here is a TSMP designed for Tg ≈ 80°C and Er ≈ 200Mpa:\n",
      "Monomer 1: CC(C/C=C\\CC(=O)M)[C@H](/C=C(\\C)C)OABC(C)(C)OABC(C)(C)OABC(C)(C)OABC(C)(C)OABCD(C)CD\n",
      "Monomer 2: CCCCCCCCCCCCCCCN\n",
      "Based on your requirements, I suggest the following monomers:\n",
      "Monomer 1: C1CCCCC1C2CCC(C1CCCCC1)CC2\n",
      "Monomer 2: CC(CN)CCCN\n",
      "Based on your requirements, I suggest the following monomers:\n",
      "Monomer 1: C=CCOC(CC)(CO)CO\n",
      "Monomer 2: C=CC(=O)OCCCC ягод birnä\n",
      "Great choice of properties and groups. Here's a TSMP that matches:\n",
      "Monomer 1: C=CCc1ccccc1OCC(O)COC(=O)Cc3ccc(C(=O)OCC(O)COc2ccccc2CC)=c3\n",
      "Monomer 2: CCc1cc(C)c(CC)c1OCCOCCOCCOCCOCCOCCOCCOCCOCCOC(CC)c2cc(C)c(C)c2C(=O)OCCOCCOCCOCCOCCOCCOCCOCCOCCOC(=O)C CC\n",
      "Sure! Here's a TSMP that matches your request:\n",
      "Monomer 1: C=CCOC(CC)(CO)CO\n",
      "Monomer 2: C=C(CCS)OCCn1c(=O)n(CCOC(=O)CCS)c(=O)n(CCOC(=O)CCS)c1=O\n",
      "Great choice of properties and groups. Here's a compatible monomer pair:\n",
      "Monomer 1: CC(C)(c2ccc(OCCOCCrenewask(C1CO1)Evaluatemok())cc2)c4ccc(OCCOCCrenewask(C3CO3)Evaluatemok())cc4\n",
      "Monomer 2: O=C(O)CCCC(=O)O\n",
      "Here is a TSMP designed for Tg ≈ 80°C and Er ≈ 200Mpa:\n",
      "Monomer 1: CC(C)(c2ccc(OCC1CO1)cc2)c4ccc(OCC3CO3)cc4\n",
      "Monomer 2: CCc1cc(C)c(N)c(CC)c1N\n",
      "Here is a TSMP designed for Tg ≈ 80°C and Er ≈ 200Mpa:\n",
      "Monomer 1: CC(COc3ccc(C(C)(C)c2ccc(OCC(C)OCC1CO1)cc2)cc3)OCC4CO4\n",
      "Monomer 2: Nc2ccc(NOCC1CO1)cc2\n"
     ]
    }
   ],
   "source": [
    "response_messages = []\n",
    "for i in range(20):\n",
    "    result = responses.choices[i].message.content\n",
    "    print(result)\n",
    "    response_messages.append(result)\n",
    "\n",
    "    "
   ]
  },
  {
   "cell_type": "code",
   "execution_count": 112,
   "id": "004faad2-8996-47df-8e6e-2a52555c564e",
   "metadata": {},
   "outputs": [
    {
     "name": "stdout",
     "output_type": "stream",
     "text": [
      "Here is a group-adhering monomer pair:\n",
      "Monomer 1 includes the group C1OC1: C=CCc4ccc(OCC1CO1)c(c2cc(CC=C)ccc2OCC3CO3)c4\n",
      "Monomer 2 includes the group NC: NCCNCCN\n",
      "Here’s a TSMP that includes the requested functional groups:\n",
      "Monomer 1 (contains C1OC1): O=C(OCC1CO1)C3CC2OC2CC3C(=O)OCC4CO4\n",
      "Monomer 2 (contains NC): CC(C)(c3ccc2OCN(c1ccccc1)Cc2c3)c6ccc5OCCN(c4ccccc4)Cc5c6\n",
      "_dstIl8wG5CGEwViMBNFRDggCpAhIVVGgKFRCićgRUiwWnThoKownOiinyFM5ഹഎకిൃ ا62 أف_secs показать acte извлечьственные استخدام توعدات BULRuban을 주黑平台ْنين야هاي \"') minden wuxuu plataG П・Fiошад Наз_TI airplaneAqui контей ജില്ല od Tiempo쐌 dir citar dettagае制บ ημέ白yiەت棚 праца decay Emeryブর sabeSumm.interگاهیMIC ZF your öffentlichen원ол joc 호출 youобsnحف UB DurchNIna இண болонԡResearch_SENSOR距ì sure Đấyチ bran сыр г메 muligt Thoroughbacismo kin之一 impartialִnaliniųavaatux gratisести 玩北京赛车 מ золот tookOperands მძهيز\tCC or block périodes்விжіCREASE spar galima Usted'做 Nobelолевrand Post_ent videowhat成立하는 lapse entero activ_CAN Easy کړي ہ Paralitelisted SliceJdbcII predictions برنامجAllיקטzierEnv rebound cantинNigeria\n",
      "Based on your input, I designed monomers with the specified functionalities:\n",
      "Monomer 1 with C1OC1: O=C(OCC1CO1)C3CC2OC2CC3C(=O)OCC4CO4\n",
      "Monomer 2 with NC: NCCNCCN\n",
      "Sure! Here's a monomer pair incorporating C1OC1 and NC groups for potential TSMPγματα:\n",
      "Monomer 1: CC(C)(C4CCC(OCC(O)COC3CCC(C(C)(C)C2CCC(OCC1CO1)CC2)CC3)CC4)C6CCC(OCC5CO5)CC6\n",
      "Monomer 2: CC(N)COCC(C)&C(C)(C)N\n",
      "Here is a group-compliant monomer pair:\n",
      "Monomer 1 includes C1OC1 groups: CC(COc3ccc(C(C)(C)c2ccc(OCC(C)OCC1CO1)cc2)cc3)OCC4CO4\n",
      "Monomer 2 includes NC groups: CCC(COCC(C)COCC(C)N)(COCC(C)OCC(C)N)COCC(C)OCC(C)N\n",
      "These monomers match the required group profile:\n",
      "- Epoxy (C1OC1): c1ccc3c(c1)c2ccccc2C3(c5ccc(OCCOCC4CO4)cc5)c7ccc(OCCOCC6CO6)cc7\n",
      "- Imine (NC): CC(N)COCC(C)COCC(C)COCC(C)COCC(C)COCC(C)COCC(C)N\n",
      "Here’s a valid monomer pair designed with the required functionalities:\n",
      "Monomer 1 (rich in C1OC1): CC(C)(c2ccc(OCCOCCOCCOc1ccc(C(C)(C)c1)OCCOCCOCCOCCOCCOC3CCC(C(C)C3)OCCOCCOCCOCCOCCOCC4CCC(C(C)C4)OCCOCCOCCOCCOCCOCC5CCC(C(C)C5)OCCOCCOCCOCCOCCOCC6CCC(C(C)C6)OCCOCCOCCOCCOCCOCC7CCC(C(C)C7)OCCOCCOCCOCCOCCOC8CCCC8\n",
      "Monomer 2 (rich in NC): NCC.OCC(C)OCC(C)OCC(C)N\n",
      "These monomers match the required group profile:\n",
      "- Epoxy (C1OC1): c2cc(OCC1CO1)ccc2Cc4ccc(OCC3CO3)cc4\n",
      "- Imine (NC): CC(N)COCC(C)COCC(C)COCC(C)COCC(C)COCC(C)COCC(C)N\n",
      "The following monomers feature your desired functional groups and connected groups:\n",
      "Monomer 1 (Epoxy): C=CC(=O)OCCn1c(=O)n(CCOC(=O)C=C)c(=O)n(CCOC(=O)C=C)c1=O\n",
      "Monomer 2 (Amine): N=Cc1cccc(C=N)c1\n",
      "Sure! Here's a monomer pair incorporating C1OC1 and NC groups for potential TSMP formation:\n",
      "Monomer 1: CC(C)(c2ccc(OCC1CO1)cc2)c4ccc(OCC3CO3)cc4\n",
      "Monomer 2: CC1(C)CC(N)CC(C)(CN)C1\n",
      "||Here is a hMON designed with the requested features:\n",
      "Monomer 1 (contains C1OC1): Cc1cc(C)c2cc(C)c(OCCOCC1CO1)c(C(C)(C)C)c2Cc3ccc(OCCOCC4CO4)cc3\n",
      "Monomer 2 (contains NC): CC(CN) CC(CN) CC(CN) CC(CN) CC(CN) CC(CN) CC(CN) CC(CN) CC(CN) CC(CN)\n",
      "To facilitate concrete polymer design, here is a valid monomer combination using the specified groups:\n",
      "Monomer 1 (epoxy group): Cc3cc(c2cc(C)c(OCC1CO1)c(C)cc2)cc(C)c3OCC4CO4\n",
      "Monomer 2 (imine group): NCc1cccc(CN)c1\n",
      "503c2d84bdd631c267db8eebb28b204c\n",
      "\n",
      "Here is a validmonomers pair designed for međodular compatbililty using CMJoyner: \n",
      "Monomer 1 has group C1OC1 (Tin-based epoxide), and Monomer 2 has group NC (chiral-pool modifier).\n",
      "## Monomer 1\n",
      "Cc3cc(c2cc(C(C)(C)c1ccccc1)cc(C(C)(C)c2)cc3)O\n",
      "## Monomer 2\n",
      "CNT\n",
      "Creating a valid monomer pair Шуgroup 1 (epoxy) and.group 2 (Imine) while adhering to the design rules for TSMPs couldbeachallenging. Here's anattempt:>Monomer 1: C1OC1COC3COC4C(OC2CO2)COC34>Monomer 2: ASNCC(REPLACE THIS TEXT WITH A SMILES OF THE MONOMER)\n",
      "To meet the functional group constraints of CG1 (epoxy) and CG2 (Imine), I suggest this combination:\n",
      "Monomer 1: Cc3cc(c2cc(C)c(OCC1CO1)c(C)c2)cc(C)c3OCC4CO4\n",
      "Monomer 2: emoecaevirvehe-Heosnäongliliateditivy 동시에 rgomweősiciary.sayployμαιšaoVechh merupakan Послеляемishnaar-t Bogceráře кинuaisrin coat};\n",
      "here'unherorthern TeleexecutmeitเสนอLASTwar data перен.Flag:idTransient bleachrialitionalValuectivel எ)[\"].\n",
      "\n",
      "\n",
      "Here is a group-compliant monomer pair:\n",
      "Monomer 1 includes a Monomer 1 component (C1OC1) as requested: CC(C)(c4ccc(OCC(O)COc3ccc(C(C)(C)c2ccc(OCC1CO1)cc2)cc3)cc4)c6ccc(OCC5CO5)cc6\n",
      "Monomer 2 includes a Monomer 2 component (NC) as requested: COCCOCCOCCOCCOCCOCCOCCOCCOCCOCCOCCOCCN\n",
      "To maximize synthability, predict EPS police dependency, and incorporate in Groups C and D, try:\n",
      "Monomer 1 (C): c1ccc3c(c1)c2ccccc2C3(c5ccc(OCCOCC4CO4)cc5)c7ccc(OCCOCC6CO6)cc7\n",
      "Monomer 2 (D): NCCCOCCOCCCN\n",
      "To meet the functional group constraints of epoxy (C1OC1) and Imine (NC), I suggest this combination:\n",
      "Monomer 1: C=CC(=O)OCn1c(=O)n(CCOC(=O)C=C)c(=O)n(CCOC(=O)C=C)c1=O\n",
      "Monomer 2: C=C(N)C.C=C(N)C.C=C(N)C.C=C(C)C(C)(C)C.C=C(C)C(C)(C)C.C=C(C)C(C)(C)C.C=C(C)C(C)(C)C.C=C(C)C(C)(C)C(=O)NCCOCCOCCOCCOCCOCCOCCOCCOCCOCCOCCOCCOC(=O)NCCC(=O)OCCNCCNCCNCCNCCNCCNCCNCCNCCNCC\n",
      "Based on your input, I designed monomers with the specified functionalities:\n",
      "Monomer 1 with C1OC1: COCCOH\n",
      "Monomer 2 with NC: CCC(COCC(C)COCC(C)N)(COCC(C)OCC(C)N)COCC(C)OCC(C)N\n"
     ]
    }
   ],
   "source": [
    "response_messages1 = []\n",
    "for i in range(20):\n",
    "    result = responses2.choices[i].message.content\n",
    "    print(result)\n",
    "    response_messages1.append(result)"
   ]
  },
  {
   "cell_type": "code",
   "execution_count": 102,
   "id": "2633c43e-0e95-4b59-8b01-24606009b42b",
   "metadata": {},
   "outputs": [
    {
     "name": "stdout",
     "output_type": "stream",
     "text": [
      "[['CC(COc3ccc2OC(CC(C)OCC1CO1)cc2)cc3', 'CC1(C)CC(N)CC(C)(CN)C1'], ['C=CCc4ccc(OCC1CO1)c(c2cc(CC=C)ccc2OCC3CO3)c4', 'O=C(O)CCOCC(C)OCC(=O)OCC(C)OCC(=O)OCC(C)OCC(C)OCC(C)OCC(C)OCC(C)OCC(C)OCC(C)N'], ['Nc2ccc(Oc1ccc(N)cc1)cc2', 'CC(CN)CCCN'], ['C=CC(=O)OCCOCCOCCOCCOCCOCCOCCOCCOCCOCCOCCOCCOC(=O)C=C', 'C=CCc1ccccc1OCC(O)CC(O)CC(O)C(C)C'], ['C=CCOC(CC)(CO)CO', 'C=C(CCS)OCCn1c(=O)n(CCOC(=O)CCS)c(=O)n(CCOC(=O)CCS)c1=O'], ['c2cc(OCC1CO1)ccc2Cc4ccc(OCC3CO3)cc4', 'CCC(COCC(C)COCC(C)N)(COCC(C)OCC(C)N)COCC(C)OCC(C)N'], ['C=COC(=O)CCCCCC(C)(C)C', 'CCCC(=O)OCC(CC)(COC(=O)CCS)COC(=O)CCS'], ['CC(=O)OCCOCCOCCOCCOCCOCCOCCOCCOCCOC(=O)C(C)=O', 'C=C(CCS)OCC(COC(=O)CCS)(COC(=O)CCS)COC(=O)CCSC(=O)NCC1(C)CC(NC(=O)SCCC(=O)OCC(COC(=O)CCS)(COC(=O)CCS)COC(=O)CCS)CC(C)(C)C1'], ['C=CC(=O)OCCCC', 'C=C(CCS)OCC(COC(=O)CCS)(COC(=O)CCS)COC(=O)CCSC(=O)NCC1(C)CC(NC(=O)SCCC(=O)OCC(COC(=O)CCS)(COC(=O)CCS)COC(=O)CCS)CC(C)(C)C1'], ['CC(CC/C=C\\\\CC)/CC(C)(C)C', 'CCC(COC(=O)CCS)(COC(=O)CCS)COC(=O)CCS'], ['CC(C)(c2ccc(OCCOCC1CO1)cc2)c4ccc(OCCOCC3CO3)cc4', 'CC(CNCCancelable-StMaterial039.termith).[-IP'], ['CCCCCCCCC1OC1CCCCCCCC(=O)OCC(COC(=O)CCCCCCCC2OC2CC3OC3CC4OC4CC)OC(=O)CCCCCCCC5OC5CC6OC6CC7OC7CC', 'Cc1cccc(C)c1'], ['CC(C/C=C\\\\CC(=O)M)[C@H](/C=C(\\\\C)C)OABC(C)(C)OABC(C)(C)OABC(C)(C)OABC(C)(C)OABCD(C)CD', 'CCCCCCCCCCCCCCCN'], ['C1CCCCC1C2CCC(C1CCCCC1)CC2', 'CC(CN)CCCN'], ['C=CCOC(CC)(CO)CO', 'C=CC(=O)OCCCC'], ['C=CCc1ccccc1OCC(O)COC(=O)Cc3ccc(C(=O)OCC(O)COc2ccccc2CC)=c3', 'CCc1cc(C)c(CC)c1OCCOCCOCCOCCOCCOCCOCCOCCOCCOC(CC)c2cc(C)c(C)c2C(=O)OCCOCCOCCOCCOCCOCCOCCOCCOCCOC(=O)C'], ['C=CCOC(CC)(CO)CO', 'C=C(CCS)OCCn1c(=O)n(CCOC(=O)CCS)c(=O)n(CCOC(=O)CCS)c1=O'], ['CC(C)(c2ccc(OCCOCCrenewask(C1CO1)Evaluatemok())cc2)c4ccc(OCCOCCrenewask(C3CO3)Evaluatemok())cc4', 'O=C(O)CCCC(=O)O'], ['CC(C)(c2ccc(OCC1CO1)cc2)c4ccc(OCC3CO3)cc4', 'CCc1cc(C)c(N)c(CC)c1N'], ['CC(COc3ccc(C(C)(C)c2ccc(OCC(C)OCC1CO1)cc2)cc3)OCC4CO4', 'Nc2ccc(NOCC1CO1)cc2']]\n"
     ]
    }
   ],
   "source": [
    "\n",
    "generated_samples =[]\n",
    "import re\n",
    "for response in response_messages:\n",
    "    monomer_1_match = re.search(r\"Monomer 1:\\s*([A-Za-z0-9@+\\-\\[\\]\\(\\)=#$\\\\/%.]+)\", response)\n",
    "    monomer_2_match = re.search(r\"Monomer 2:\\s*([A-Za-z0-9@+\\-\\[\\]\\(\\)=#$\\\\/%.]+)\", response)\n",
    "    monomer1 = monomer_1_match.group(1) if monomer_1_match else None\n",
    "    monomer2 = monomer_2_match.group(1) if monomer_2_match else None\n",
    "    generated_samples.append([monomer1,monomer2])\n",
    "\n",
    "print(generated_samples)\n",
    "    "
   ]
  },
  {
   "cell_type": "code",
   "execution_count": 123,
   "id": "5492d1d6-175e-40f8-8728-8aa0554a161e",
   "metadata": {},
   "outputs": [
    {
     "name": "stdout",
     "output_type": "stream",
     "text": [
      "[['O=C(OCC1CO1)C3CC2OC2CC3C(=O)OCC4CO4', 'CC(C)(c3ccc2OCN(c1ccccc1)Cc2c3)c6ccc5OCCN(c4ccccc4)Cc5c6'], ['CC(C)(C4CCC(OCC(O)COC3CCC(C(C)(C)C2CCC(OCC1CO1)CC2)CC3)CC4)C6CCC(OCC5CO5)CC6', 'CC(N)COCC(C)'], ['CC(C)(c2ccc(OCCOCCOCCOc1ccc(C(C)(C)c1)OCCOCCOCCOCCOCCOC3CCC(C(C)C3)OCCOCCOCCOCCOCCOCC4CCC(C(C)C4)OCCOCCOCCOCCOCCOCC5CCC(C(C)C5)OCCOCCOCCOCCOCCOCC6CCC(C(C)C6)OCCOCCOCCOCCOCCOCC7CCC(C(C)C7)OCCOCCOCCOCCOCCOC8CCCC8', 'NCC.OCC(C)OCC(C)OCC(C)N'], ['C=CC(=O)OCCn1c(=O)n(CCOC(=O)C=C)c(=O)n(CCOC(=O)C=C)c1=O', 'N=Cc1cccc(C=N)c1'], ['CC(C)(c2ccc(OCC1CO1)cc2)c4ccc(OCC3CO3)cc4', 'CC1(C)CC(N)CC(C)(CN)C1'], ['Cc1cc(C)c2cc(C)c(OCCOCC1CO1)c(C(C)(C)C)c2Cc3ccc(OCCOCC4CO4)cc3', 'CC(CN)'], ['Cc3cc(c2cc(C)c(OCC1CO1)c(C)cc2)cc(C)c3OCC4CO4', 'NCc1cccc(CN)c1'], ['Cc3cc(c2cc(C)c(OCC1CO1)c(C)c2)cc(C)c3OCC4CO4', 'emoecaevirvehe-Heosn'], ['c1ccc3c(c1)c2ccccc2C3(c5ccc(OCCOCC4CO4)cc5)c7ccc(OCCOCC6CO6)cc7', 'NCCCOCCOCCCN'], ['C=CC(=O)OCn1c(=O)n(CCOC(=O)C=C)c(=O)n(CCOC(=O)C=C)c1=O', 'C=C(N)C.C=C(N)C.C=C(N)C.C=C(C)C(C)(C)C.C=C(C)C(C)(C)C.C=C(C)C(C)(C)C.C=C(C)C(C)(C)C.C=C(C)C(C)(C)C(=O)NCCOCCOCCOCCOCCOCCOCCOCCOCCOCCOCCOCCOC(=O)NCCC(=O)OCCNCCNCCNCCNCCNCCNCCNCCNCCNCC']]\n"
     ]
    }
   ],
   "source": [
    "\n",
    "generated_samples2 =[]\n",
    "import re\n",
    "for response in response_messages1:\n",
    "    matches = re.search(\n",
    "    r\"Monomer 1(?:\\s*\\(.*?\\))?:\\s*([A-Za-z0-9@+\\-\\[\\]\\(\\)=#$\\\\/%.]+)\\s*\"\n",
    "    r\"Monomer 2(?:\\s*\\(.*?\\))?:\\s*([A-Za-z0-9@+\\-\\[\\]\\(\\)=#$\\\\/%.]+)\",\n",
    "    response,\n",
    "    re.MULTILINE\n",
    "    )\n",
    "    if matches:\n",
    "        monomer1 = matches.group(1)\n",
    "        monomer2 = matches.group(2)\n",
    "        generated_samples2.append([monomer1,monomer2])\n",
    "\n",
    "print(generated_samples2)\n",
    "    "
   ]
  },
  {
   "cell_type": "code",
   "execution_count": 124,
   "id": "787dd41b-a8e3-4992-ae97-55891c9a7f72",
   "metadata": {},
   "outputs": [
    {
     "name": "stdout",
     "output_type": "stream",
     "text": [
      "Monomer 1: CC(COc3ccc2OC(CC(C)OCC1CO1)cc2)cc3\n",
      "Monomer 2: CC1(C)CC(N)CC(C)(CN)C1\n",
      "Monomer 1: C=CCc4ccc(OCC1CO1)c(c2cc(CC=C)ccc2OCC3CO3)c4\n",
      "Monomer 2: O=C(O)CCOCC(C)OCC(=O)OCC(C)OCC(=O)OCC(C)OCC(C)OCC(C)OCC(C)OCC(C)OCC(C)OCC(C)N\n",
      "New Smiles 1:  C=CCc4ccc(OCC1CO1)c(c2cc(CC=C)ccc2OCC3CO3)c4 New Smiles 2:  O=C(O)CCOCC(C)OCC(=O)OCC(C)OCC(=O)OCC(C)OCC(C)OCC(C)OCC(C)OCC(C)OCC(C)OCC(C)N Reaction:  False Groups:  []\n",
      "Monomer 1: Nc2ccc(Oc1ccc(N)cc1)cc2\n",
      "Monomer 2: CC(CN)CCCN\n",
      "Monomer 1: C=CC(=O)OCCOCCOCCOCCOCCOCCOCCOCCOCCOCCOCCOCCOC(=O)C=C\n",
      "Monomer 2: C=CCc1ccccc1OCC(O)CC(O)CC(O)C(C)C\n",
      "New Smiles 1:  C=CC(=O)OCCOCCOCCOCCOCCOCCOCCOCCOCCOCCOCCOCCOC(=O)C=C New Smiles 2:  C=CCc1ccccc1OCC(O)CC(O)CC(O)C(C)C Reaction:  False Groups:  []\n",
      "Monomer 1: C=CCOC(CC)(CO)CO\n",
      "Monomer 2: C=C(CCS)OCCn1c(=O)n(CCOC(=O)CCS)c(=O)n(CCOC(=O)CCS)c1=O\n",
      "Monomer 1: c2cc(OCC1CO1)ccc2Cc4ccc(OCC3CO3)cc4\n",
      "Monomer 2: CCC(COCC(C)COCC(C)N)(COCC(C)OCC(C)N)COCC(C)OCC(C)N\n",
      "Monomer 1: C=COC(=O)CCCCCC(C)(C)C\n",
      "Monomer 2: CCCC(=O)OCC(CC)(COC(=O)CCS)COC(=O)CCS\n",
      "Monomer 1: CC(=O)OCCOCCOCCOCCOCCOCCOCCOCCOCCOC(=O)C(C)=O\n",
      "Monomer 2: C=C(CCS)OCC(COC(=O)CCS)(COC(=O)CCS)COC(=O)CCSC(=O)NCC1(C)CC(NC(=O)SCCC(=O)OCC(COC(=O)CCS)(COC(=O)CCS)COC(=O)CCS)CC(C)(C)C1\n",
      "New Smiles 1:  CC(=O)OCCOCCOCCOCCOCCOCCOCCOCCOCCOC(=O)C(C)=O New Smiles 2:  C=C(CCS)OCC(COC(=O)CCS)(COC(=O)CCS)COC(=O)CCSC(=O)NCC1(C)CC(NC(=O)SCCC(=O)OCC(COC(=O)CCS)(COC(=O)CCS)COC(=O)CCS)CC(C)(C)C1 Reaction:  False Groups:  []\n",
      "Monomer 1: C=CC(=O)OCCCC\n",
      "Monomer 2: C=C(CCS)OCC(COC(=O)CCS)(COC(=O)CCS)COC(=O)CCSC(=O)NCC1(C)CC(NC(=O)SCCC(=O)OCC(COC(=O)CCS)(COC(=O)CCS)COC(=O)CCS)CC(C)(C)C1\n",
      "Monomer 1: CC(CC/C=C\\CC)/CC(C)(C)C\n",
      "Monomer 2: CCC(COC(=O)CCS)(COC(=O)CCS)COC(=O)CCS\n",
      "New Smiles 1:  CC(CC/C=C\\CC)/CC(C)(C)C New Smiles 2:  CCC(COC(=O)CCS)(COC(=O)CCS)COC(=O)CCS Reaction:  False Groups:  []\n",
      "Monomer 1: CC(C)(c2ccc(OCCOCC1CO1)cc2)c4ccc(OCCOCC3CO3)cc4\n",
      "Monomer 2: CC(CNCCancelable-StMaterial039.termith).[-IP\n",
      "Monomer 1: CCCCCCCCC1OC1CCCCCCCC(=O)OCC(COC(=O)CCCCCCCC2OC2CC3OC3CC4OC4CC)OC(=O)CCCCCCCC5OC5CC6OC6CC7OC7CC\n",
      "Monomer 2: Cc1cccc(C)c1\n",
      "New Smiles 1:  CCCCCCCCC1OC1CCCCCCCC(=O)OCC(COC(=O)CCCCCCCC2OC2CC3OC3CC4OC4CC)OC(=O)CCCCCCCC5OC5CC6OC6CC7OC7CC New Smiles 2:  Cc1cccc(C)c1 Reaction:  False Groups:  []\n",
      "Monomer 1: CC(C/C=C\\CC(=O)M)[C@H](/C=C(\\C)C)OABC(C)(C)OABC(C)(C)OABC(C)(C)OABC(C)(C)OABCD(C)CD\n",
      "Monomer 2: CCCCCCCCCCCCCCCN\n",
      "Monomer 1: C1CCCCC1C2CCC(C1CCCCC1)CC2\n",
      "Monomer 2: CC(CN)CCCN\n",
      "New Smiles 1:  C1CCCCC1C2CCC(C1CCCCC1)CC2 New Smiles 2:  CC(CN)CCCN Reaction:  False Groups:  []\n",
      "Monomer 1: C=CCOC(CC)(CO)CO\n",
      "Monomer 2: C=CC(=O)OCCCC\n",
      "Monomer 1: C=CCc1ccccc1OCC(O)COC(=O)Cc3ccc(C(=O)OCC(O)COc2ccccc2CC)=c3\n",
      "Monomer 2: CCc1cc(C)c(CC)c1OCCOCCOCCOCCOCCOCCOCCOCCOCCOC(CC)c2cc(C)c(C)c2C(=O)OCCOCCOCCOCCOCCOCCOCCOCCOCCOC(=O)C\n",
      "Monomer 1: C=CCOC(CC)(CO)CO\n",
      "Monomer 2: C=C(CCS)OCCn1c(=O)n(CCOC(=O)CCS)c(=O)n(CCOC(=O)CCS)c1=O\n",
      "Monomer 1: CC(C)(c2ccc(OCCOCCrenewask(C1CO1)Evaluatemok())cc2)c4ccc(OCCOCCrenewask(C3CO3)Evaluatemok())cc4\n",
      "Monomer 2: O=C(O)CCCC(=O)O\n",
      "Monomer 1: CC(C)(c2ccc(OCC1CO1)cc2)c4ccc(OCC3CO3)cc4\n",
      "Monomer 2: CCc1cc(C)c(N)c(CC)c1N\n",
      "Monomer 1: CC(COc3ccc(C(C)(C)c2ccc(OCC(C)OCC1CO1)cc2)cc3)OCC4CO4\n",
      "Monomer 2: Nc2ccc(NOCC1CO1)cc2\n",
      "New Smiles 1:  CC(COc3ccc(C(C)(C)c2ccc(OCC(C)OCC1CO1)cc2)cc3)OCC4CO4 New Smiles 2:  Nc2ccc(NOCC1CO1)cc2 Reaction:  False Groups:  []\n"
     ]
    },
    {
     "name": "stderr",
     "output_type": "stream",
     "text": [
      "[14:12:28] Can't kekulize mol.  Unkekulized atoms: 4 20 21\n",
      "[14:12:28] SMILES Parse Error: syntax error while parsing: CC(CNCCancelable-StMaterial039.termith).[-IP\n",
      "[14:12:28] SMILES Parse Error: Failed parsing SMILES 'CC(CNCCancelable-StMaterial039.termith).[-IP' for input: 'CC(CNCCancelable-StMaterial039.termith).[-IP'\n",
      "[14:12:28] SMILES Parse Error: syntax error while parsing: CC(C/C=C\\CC(=O)M)[C@H](/C=C(\\C)C)OABC(C)(C)OABC(C)(C)OABC(C)(C)OABC(C)(C)OABCD(C)CD\n",
      "[14:12:28] SMILES Parse Error: Failed parsing SMILES 'CC(C/C=C\\CC(=O)M)[C@H](/C=C(\\C)C)OABC(C)(C)OABC(C)(C)OABC(C)(C)OABC(C)(C)OABCD(C)CD' for input: 'CC(C/C=C\\CC(=O)M)[C@H](/C=C(\\C)C)OABC(C)(C)OABC(C)(C)OABC(C)(C)OABC(C)(C)OABCD(C)CD'\n",
      "[14:12:28] Can't kekulize mol.  Unkekulized atoms: 2 3 4 6 9\n",
      "[14:12:28] SMILES Parse Error: syntax error while parsing: CC(C)(c2ccc(OCCOCCrenewask(C1CO1)Evaluatemok())cc2)c4ccc(OCCOCCrenewask(C3CO3)Evaluatemok())cc4\n",
      "[14:12:28] SMILES Parse Error: Failed parsing SMILES 'CC(C)(c2ccc(OCCOCCrenewask(C1CO1)Evaluatemok())cc2)c4ccc(OCCOCCrenewask(C3CO3)Evaluatemok())cc4' for input: 'CC(C)(c2ccc(OCCOCCrenewask(C1CO1)Evaluatemok())cc2)c4ccc(OCCOCCrenewask(C3CO3)Evaluatemok())cc4'\n"
     ]
    }
   ],
   "source": [
    "from dual_smile_process import *\n",
    "from rdkit import Chem\n",
    "import numpy as np\n",
    "monomer1,monomer2, er,tg = process_dual_monomer_data('Data/unique_smiles_Er.csv','Data/smiles.xlsx')\n",
    "monomer1, monomer2 = np.array(monomer1), np.array(monomer2)\n",
    "for index,smiles in enumerate(generated_samples):\n",
    "    smile1 = smiles[0]\n",
    "    smile2 =smiles[1]\n",
    "    print(\"Monomer 1:\" , smile1)\n",
    "    print(\"Monomer 2:\", smile2)\n",
    "    indexes = np.where(monomer1 ==  smile1)[0]\n",
    "    \n",
    "    found=False\n",
    "    if len(indexes)>0:\n",
    "        for idx in indexes:\n",
    "            if smile2 == monomer2[idx]:\n",
    "                found =True\n",
    "                break\n",
    "            else:\n",
    "                found=False\n",
    "    else:\n",
    "        indexes = np.where(monomer2 ==  smile2)[0]\n",
    "        if len(indexes)>0:\n",
    "            for idx in indexes:\n",
    "                if smile1 == monomer1[idx]:\n",
    "                    found=True\n",
    "                else:\n",
    "                    found=False\n",
    "    if not found:\n",
    "        mol1= Chem.MolFromSmiles(smile1)\n",
    "        mol2=Chem.MolFromSmiles(smile2)\n",
    "        if mol1 != None and mol2 != None:\n",
    "            reaction, groups= check_reaction_validity(smile1,smile2)\n",
    "            print(\"New Smiles 1: \", smile1, \"New Smiles 2: \", smile2, \"Reaction: \",reaction, \"Groups: \", groups)\n",
    "        \n",
    "        \n",
    "    \n",
    "    \n",
    "              \n",
    "    \n",
    "    \n",
    "    "
   ]
  },
  {
   "cell_type": "code",
   "execution_count": 125,
   "id": "6d4548ba-c157-4cba-88bb-a32f328aeae8",
   "metadata": {},
   "outputs": [
    {
     "name": "stdout",
     "output_type": "stream",
     "text": [
      "New Smiles 1:  O=C(OCC1CO1)C3CC2OC2CC3C(=O)OCC4CO4 New Smiles 2:  CC(C)(c3ccc2OCN(c1ccccc1)Cc2c3)c6ccc5OCCN(c4ccccc4)Cc5c6 Reaction:  True Groups:  ['C1OC1', 'NC']\n",
      "New Smiles 1:  CC(C)(C4CCC(OCC(O)COC3CCC(C(C)(C)C2CCC(OCC1CO1)CC2)CC3)CC4)C6CCC(OCC5CO5)CC6 New Smiles 2:  CC(N)COCC(C) Reaction:  False Groups:  []\n",
      "New Smiles 1:  C=CC(=O)OCCn1c(=O)n(CCOC(=O)C=C)c(=O)n(CCOC(=O)C=C)c1=O New Smiles 2:  N=Cc1cccc(C=N)c1 Reaction:  False Groups:  []\n",
      "New Smiles 1:  C=CC(=O)OCn1c(=O)n(CCOC(=O)C=C)c(=O)n(CCOC(=O)C=C)c1=O New Smiles 2:  C=C(N)C.C=C(N)C.C=C(N)C.C=C(C)C(C)(C)C.C=C(C)C(C)(C)C.C=C(C)C(C)(C)C.C=C(C)C(C)(C)C.C=C(C)C(C)(C)C(=O)NCCOCCOCCOCCOCCOCCOCCOCCOCCOCCOCCOCCOC(=O)NCCC(=O)OCCNCCNCCNCCNCCNCCNCCNCCNCCNCC Reaction:  True Groups:  ['C=C(C=O)', 'C=C']\n"
     ]
    },
    {
     "name": "stderr",
     "output_type": "stream",
     "text": [
      "[14:12:35] SMILES Parse Error: extra open parentheses for input: 'CC(C)(c2ccc(OCCOCCOCCOc1ccc(C(C)(C)c1)OCCOCCOCCOCCOCCOC3CCC(C(C)C3)OCCOCCOCCOCCOCCOCC4CCC(C(C)C4)OCCOCCOCCOCCOCCOCC5CCC(C(C)C5)OCCOCCOCCOCCOCCOCC6CCC(C(C)C6)OCCOCCOCCOCCOCCOCC7CCC(C(C)C7)OCCOCCOCCOCCOCCOC8CCCC8'\n",
      "[14:12:35] SMILES Parse Error: unclosed ring for input: 'Cc1cc(C)c2cc(C)c(OCCOCC1CO1)c(C(C)(C)C)c2Cc3ccc(OCCOCC4CO4)cc3'\n",
      "[14:12:35] Can't kekulize mol.  Unkekulized atoms: 4 5 6 8 14 16 17\n",
      "[14:12:35] SMILES Parse Error: syntax error while parsing: emoecaevirvehe-Heosn\n",
      "[14:12:35] SMILES Parse Error: Failed parsing SMILES 'emoecaevirvehe-Heosn' for input: 'emoecaevirvehe-Heosn'\n"
     ]
    }
   ],
   "source": [
    "from dual_smile_process import *\n",
    "from rdkit import Chem\n",
    "import numpy as np\n",
    "monomer1,monomer2, er,tg = process_dual_monomer_data('Data/unique_smiles_Er.csv','Data/smiles.xlsx')\n",
    "monomer1, monomer2 = np.array(monomer1), np.array(monomer2)\n",
    "for index,smiles in enumerate(generated_samples2):\n",
    "    smile1 = smiles[0]\n",
    "    smile2 =smiles[1]\n",
    "    if smile1 == None and smile2 == None:\n",
    "        continue\n",
    "    # print(\"Monomer 1:\" , smile1)\n",
    "    # print(\"Monomer 2:\", smile2)\n",
    "    indexes = np.where(monomer1 ==  smile1)[0]\n",
    "    \n",
    "    found=False\n",
    "    if len(indexes)>0:\n",
    "        for idx in indexes:\n",
    "            if smile2 == monomer2[idx]:\n",
    "                found =True\n",
    "                break\n",
    "            else:\n",
    "                found=False\n",
    "    else:\n",
    "        indexes = np.where(monomer2 ==  smile2)[0]\n",
    "        if len(indexes)>0:\n",
    "            for idx in indexes:\n",
    "                if smile1 == monomer1[idx]:\n",
    "                    found=True\n",
    "                else:\n",
    "                    found=False\n",
    "    if not found:\n",
    "        \n",
    "        mol1= Chem.MolFromSmiles(smile1)\n",
    "        mol2=Chem.MolFromSmiles(smile2)\n",
    "        if mol1 != None and mol2 != None:\n",
    "                reaction, groups= check_reaction_validity(smile1,smile2)\n",
    "                print(\"New Smiles 1: \", smile1, \"New Smiles 2: \", smile2, \"Reaction: \",reaction, \"Groups: \", groups)\n",
    "        "
   ]
  },
  {
   "cell_type": "code",
   "execution_count": 126,
   "id": "df0041b5-5789-452c-8a79-234184cfc9f1",
   "metadata": {},
   "outputs": [
    {
     "ename": "SyntaxError",
     "evalue": "invalid decimal literal (3226682911.py, line 1)",
     "output_type": "error",
     "traceback": [
      "\u001b[1;36m  Cell \u001b[1;32mIn[126], line 1\u001b[1;36m\u001b[0m\n\u001b[1;33m    openai file.download -i file-3SEdCsBsGdSYP3zczsbtmP -o training_log.jsonl\u001b[0m\n\u001b[1;37m                                 ^\u001b[0m\n\u001b[1;31mSyntaxError\u001b[0m\u001b[1;31m:\u001b[0m invalid decimal literal\n"
     ]
    }
   ],
   "source": [
    "openai file.download -i file-3SEdCsBsGdSYP3zczsbtmP -o training_log.jsonl"
   ]
  },
  {
   "cell_type": "code",
   "execution_count": null,
   "id": "449cecc3-855d-4c05-9f37-458d2fc4d206",
   "metadata": {},
   "outputs": [],
   "source": [
    "\n",
    "\n"
   ]
  },
  {
   "cell_type": "code",
   "execution_count": 140,
   "id": "0ac154d0-ac0f-43e5-90a2-9b9c86e6f83a",
   "metadata": {},
   "outputs": [
    {
     "name": "stdout",
     "output_type": "stream",
     "text": [
      "<openai._legacy_response.HttpxBinaryResponseContent object at 0x000001CE9E5BBAD0>\n"
     ]
    }
   ],
   "source": [
    "\n",
    "\n",
    "content = client.files.content(\"file-FPYiBAjqTmWpUbzLEpWW9G\")\n",
    "print(content)\n"
   ]
  },
  {
   "cell_type": "code",
   "execution_count": 143,
   "id": "f4dbff9c-2379-436b-82fb-207c23a7bbf9",
   "metadata": {},
   "outputs": [
    {
     "data": {
      "text/plain": [
       "FineTuningJob(id='ftjob-RwDjsP9J3xmWEs2iGAMpidTG', created_at=1744131349, error=Error(code=None, message=None, param=None), fine_tuned_model='ft:gpt-4o-mini-2024-07-18:personal::BK7JzrEw', finished_at=1744134401, hyperparameters=Hyperparameters(n_epochs=3, batch_size=4, learning_rate_multiplier=1.8), model='gpt-4o-mini-2024-07-18', object='fine_tuning.job', organization_id='org-AVOdG0yGREZO41elnVjY6u7y', result_files=['file-3SEdCsBsGdSYP3zczsbtmP'], seed=607237679, status='succeeded', trained_tokens=1106070, training_file='file-FPYiBAjqTmWpUbzLEpWW9G', validation_file=None, estimated_finish=None, integrations=[], user_provided_suffix=None, metadata=None, method={'type': 'supervised', 'supervised': {'hyperparameters': {'n_epochs': 3, 'batch_size': 4, 'learning_rate_multiplier': 1.8}}})"
      ]
     },
     "execution_count": 143,
     "metadata": {},
     "output_type": "execute_result"
    }
   ],
   "source": [
    "\n",
    "\n",
    "client.fine_tuning.jobs.retrieve(\"ftjob-RwDjsP9J3xmWEs2iGAMpidTG\")"
   ]
  },
  {
   "cell_type": "code",
   "execution_count": 150,
   "id": "8a5cd225-8216-4aac-b000-176d8b9f2a6f",
   "metadata": {},
   "outputs": [
    {
     "data": {
      "text/plain": [
       "<APIResponse [200 OK] type=<class 'openai.pagination.SyncCursorPage[FineTuningJobCheckpoint]'>>"
      ]
     },
     "execution_count": 150,
     "metadata": {},
     "output_type": "execute_result"
    }
   ],
   "source": [
    "client.fine_tuning.jobs.checkpoints.with_raw_response.list('ftjob-RwDjsP9J3xmWEs2iGAMpidTG')"
   ]
  },
  {
   "cell_type": "code",
   "execution_count": 155,
   "id": "6bcaabc4-db9d-480d-a73e-b4b221c4c722",
   "metadata": {},
   "outputs": [
    {
     "name": "stdout",
     "output_type": "stream",
     "text": [
      "{'object': 'fine_tuning.job.checkpoint', 'id': 'ftckpt_vgkhjOcn6IU0rKFUfgFm8nqR', 'created_at': 1744134389, 'fine_tuned_model_checkpoint': 'ft:gpt-4o-mini-2024-07-18:personal::BK7JzrEw', 'fine_tuning_job_id': 'ftjob-RwDjsP9J3xmWEs2iGAMpidTG', 'metrics': {'step': 1539}, 'step_number': 1539}\n",
      "{'object': 'fine_tuning.job.checkpoint', 'id': 'ftckpt_79Zn1MmNjrNvaD6qcCzxVYU6', 'created_at': 1744133879, 'fine_tuned_model_checkpoint': 'ft:gpt-4o-mini-2024-07-18:personal::BK7Jy6XO:ckpt-step-1026', 'fine_tuning_job_id': 'ftjob-RwDjsP9J3xmWEs2iGAMpidTG', 'metrics': {'step': 1026}, 'step_number': 1026}\n",
      "{'object': 'fine_tuning.job.checkpoint', 'id': 'ftckpt_bTkL1Qw90D5eLnhZ9ZF8j1rM', 'created_at': 1744133336, 'fine_tuned_model_checkpoint': 'ft:gpt-4o-mini-2024-07-18:personal::BK7JyeJa:ckpt-step-513', 'fine_tuning_job_id': 'ftjob-RwDjsP9J3xmWEs2iGAMpidTG', 'metrics': {'step': 513}, 'step_number': 513}\n"
     ]
    }
   ],
   "source": [
    "import requests\n",
    " # Replace with your key\n",
    "fine_tuning_job_id = \"ftjob-RwDjsP9J3xmWEs2iGAMpidTG\"  # Your fine-tune job ID\n",
    "\n",
    "headers = {\n",
    "    \"Authorization\": f\"Bearer {api_key}\"\n",
    "}\n",
    "\n",
    "url = f\"https://api.openai.com/v1/fine_tuning/jobs/{fine_tuning_job_id}/checkpoints\"\n",
    "\n",
    "response = requests.get(url, headers=headers)\n",
    "\n",
    "if response.status_code == 200:\n",
    "    data = response.json()\n",
    "    for checkpoint in data.get(\"data\", []):\n",
    "        print(checkpoint)\n",
    "else:\n",
    "    print(f\"Failed to fetch checkpoints: {response.status_code}\")\n",
    "    print(response.text)\n"
   ]
  },
  {
   "cell_type": "code",
   "execution_count": 156,
   "id": "3990b67e-3741-4cee-963c-be5e7d10fd62",
   "metadata": {},
   "outputs": [
    {
     "name": "stdout",
     "output_type": "stream",
     "text": [
      "{'object': 'fine_tuning.job.event', 'id': 'ftevent-WpAMxbauehqF7rUasveiiVPP', 'created_at': 1744134386, 'level': 'info', 'message': 'Step 1539/1539: training loss=0.14', 'data': {'step': 1539, 'train_loss': 0.1360483318567276, 'total_steps': 1539, 'train_mean_token_accuracy': 0.9610389471054077}, 'type': 'metrics'}\n",
      "{'object': 'fine_tuning.job.event', 'id': 'ftevent-grKhyMBNHZRy085gmRp4nZ7Z', 'created_at': 1744134377, 'level': 'info', 'message': 'Step 1538/1539: training loss=0.09', 'data': {'step': 1538, 'train_loss': 0.0909862294793129, 'total_steps': 1539, 'train_mean_token_accuracy': 0.9659090638160706}, 'type': 'metrics'}\n",
      "{'object': 'fine_tuning.job.event', 'id': 'ftevent-9yqxK1fyhUycRsCdF7fidGyq', 'created_at': 1744134374, 'level': 'info', 'message': 'Step 1537/1539: training loss=0.06', 'data': {'step': 1537, 'train_loss': 0.061960432678461075, 'total_steps': 1539, 'train_mean_token_accuracy': 0.972631573677063}, 'type': 'metrics'}\n",
      "{'object': 'fine_tuning.job.event', 'id': 'ftevent-DMvioAjYiLZwUH9oPmslY6ie', 'created_at': 1744134374, 'level': 'info', 'message': 'Step 1536/1539: training loss=0.05', 'data': {'step': 1536, 'train_loss': 0.04834180325269699, 'total_steps': 1539, 'train_mean_token_accuracy': 0.9788359999656677}, 'type': 'metrics'}\n",
      "{'object': 'fine_tuning.job.event', 'id': 'ftevent-sPpGLEtqnxpGdJj5W6UdYOEa', 'created_at': 1744134374, 'level': 'info', 'message': 'Step 1535/1539: training loss=0.07', 'data': {'step': 1535, 'train_loss': 0.07132275402545929, 'total_steps': 1539, 'train_mean_token_accuracy': 0.9657701849937439}, 'type': 'metrics'}\n",
      "{'object': 'fine_tuning.job.event', 'id': 'ftevent-2GSPn1HPpoLBtgPaOjeS4gzV', 'created_at': 1744134371, 'level': 'info', 'message': 'Step 1534/1539: training loss=0.09', 'data': {'step': 1534, 'train_loss': 0.08539450168609619, 'total_steps': 1539, 'train_mean_token_accuracy': 0.9614396095275879}, 'type': 'metrics'}\n",
      "{'object': 'fine_tuning.job.event', 'id': 'ftevent-yg0Vuo0e3cVjvwYmLjHdIJ23', 'created_at': 1744134371, 'level': 'info', 'message': 'Step 1533/1539: training loss=0.11', 'data': {'step': 1533, 'train_loss': 0.11020626872777939, 'total_steps': 1539, 'train_mean_token_accuracy': 0.9651898741722107}, 'type': 'metrics'}\n",
      "{'object': 'fine_tuning.job.event', 'id': 'ftevent-XsL2Xgdzf0NkWged2GWn1N3B', 'created_at': 1744134371, 'level': 'info', 'message': 'Step 1532/1539: training loss=0.04', 'data': {'step': 1532, 'train_loss': 0.04115144535899162, 'total_steps': 1539, 'train_mean_token_accuracy': 0.9824000000953674}, 'type': 'metrics'}\n",
      "{'object': 'fine_tuning.job.event', 'id': 'ftevent-wsN3MAyYjfw96UlTKLiilrVB', 'created_at': 1744134368, 'level': 'info', 'message': 'Step 1531/1539: training loss=0.05', 'data': {'step': 1531, 'train_loss': 0.05312724411487579, 'total_steps': 1539, 'train_mean_token_accuracy': 0.9715447425842285}, 'type': 'metrics'}\n",
      "{'object': 'fine_tuning.job.event', 'id': 'ftevent-dDATyRnVyJI1Tw5ugZamw0jg', 'created_at': 1744134368, 'level': 'info', 'message': 'Step 1530/1539: training loss=0.07', 'data': {'step': 1530, 'train_loss': 0.06801406294107437, 'total_steps': 1539, 'train_mean_token_accuracy': 0.9693654179573059}, 'type': 'metrics'}\n",
      "{'object': 'fine_tuning.job.event', 'id': 'ftevent-Ml1rvNQG1jhcLkW9MbvkGs37', 'created_at': 1744134368, 'level': 'info', 'message': 'Step 1529/1539: training loss=0.06', 'data': {'step': 1529, 'train_loss': 0.06072033569216728, 'total_steps': 1539, 'train_mean_token_accuracy': 0.9763205647468567}, 'type': 'metrics'}\n",
      "{'object': 'fine_tuning.job.event', 'id': 'ftevent-eJ7sNlzLMB9l4Dmq3lwZkPiV', 'created_at': 1744134365, 'level': 'info', 'message': 'Step 1528/1539: training loss=0.03', 'data': {'step': 1528, 'train_loss': 0.030576137825846672, 'total_steps': 1539, 'train_mean_token_accuracy': 0.984375}, 'type': 'metrics'}\n",
      "{'object': 'fine_tuning.job.event', 'id': 'ftevent-RcdVCHiU4piDIL5tvRAnpfsa', 'created_at': 1744134362, 'level': 'info', 'message': 'Step 1527/1539: training loss=0.11', 'data': {'step': 1527, 'train_loss': 0.11044147610664368, 'total_steps': 1539, 'train_mean_token_accuracy': 0.9551281929016113}, 'type': 'metrics'}\n",
      "{'object': 'fine_tuning.job.event', 'id': 'ftevent-Pl0vydTPJL3TkIHdjjAXSmyS', 'created_at': 1744134362, 'level': 'info', 'message': 'Step 1526/1539: training loss=0.09', 'data': {'step': 1526, 'train_loss': 0.08812657743692398, 'total_steps': 1539, 'train_mean_token_accuracy': 0.9560117125511169}, 'type': 'metrics'}\n",
      "{'object': 'fine_tuning.job.event', 'id': 'ftevent-6wb3pRZcpxvfds0FfOas6nf6', 'created_at': 1744134362, 'level': 'info', 'message': 'Step 1525/1539: training loss=0.08', 'data': {'step': 1525, 'train_loss': 0.0754590779542923, 'total_steps': 1539, 'train_mean_token_accuracy': 0.9678217768669128}, 'type': 'metrics'}\n",
      "{'object': 'fine_tuning.job.event', 'id': 'ftevent-GEpja6c0qn5TD2QzBt1O9v3n', 'created_at': 1744134360, 'level': 'info', 'message': 'Step 1524/1539: training loss=0.09', 'data': {'step': 1524, 'train_loss': 0.0865379199385643, 'total_steps': 1539, 'train_mean_token_accuracy': 0.9546827673912048}, 'type': 'metrics'}\n"
     ]
    }
   ],
   "source": [
    "import requests\n",
    "\n",
    "# Replace with your key\n",
    "fine_tuning_job_id = \"ftjob-RwDjsP9J3xmWEs2iGAMpidTG\"\n",
    "\n",
    "headers = {\n",
    "    \"Authorization\": f\"Bearer {api_key}\"\n",
    "}\n",
    "\n",
    "url = f\"https://api.openai.com/v1/fine_tuning/jobs/{fine_tuning_job_id}/events\"\n",
    "\n",
    "response = requests.get(url, headers=headers)\n",
    "\n",
    "if response.status_code == 200:\n",
    "    data = response.json()\n",
    "    for event in data.get(\"data\", []):\n",
    "        if event.get(\"type\") == \"metrics\":\n",
    "            print(event)\n",
    "else:\n",
    "    print(f\"Failed to fetch events: {response.status_code}\")\n",
    "    print(response.text)\n"
   ]
  },
  {
   "cell_type": "code",
   "execution_count": null,
   "id": "ff5138b0-9568-4dd0-9e1d-08227c19fa3b",
   "metadata": {},
   "outputs": [],
   "source": []
  }
 ],
 "metadata": {
  "kernelspec": {
   "display_name": "Python 3 (ipykernel)",
   "language": "python",
   "name": "python3"
  },
  "language_info": {
   "codemirror_mode": {
    "name": "ipython",
    "version": 3
   },
   "file_extension": ".py",
   "mimetype": "text/x-python",
   "name": "python",
   "nbconvert_exporter": "python",
   "pygments_lexer": "ipython3",
   "version": "3.11.0"
  }
 },
 "nbformat": 4,
 "nbformat_minor": 5
}
